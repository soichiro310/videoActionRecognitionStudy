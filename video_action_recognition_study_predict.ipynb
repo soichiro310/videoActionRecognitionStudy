{
 "cells": [
  {
   "cell_type": "code",
   "execution_count": 1,
   "metadata": {
    "ExecuteTime": {
     "end_time": "2019-07-05T04:56:57.915496Z",
     "start_time": "2019-07-05T04:56:56.783529Z"
    }
   },
   "outputs": [
    {
     "name": "stderr",
     "output_type": "stream",
     "text": [
      "Using TensorFlow backend.\n"
     ]
    },
    {
     "name": "stdout",
     "output_type": "stream",
     "text": [
      "['/home/s-sato/notebook/201907/videoActionRecognitionStudy',\n",
      " '/home/s-sato/anaconda3/lib/python37.zip',\n",
      " '/home/s-sato/anaconda3/lib/python3.7',\n",
      " '/home/s-sato/anaconda3/lib/python3.7/lib-dynload',\n",
      " '',\n",
      " '/home/s-sato/.local/lib/python3.7/site-packages',\n",
      " '/home/s-sato/anaconda3/lib/python3.7/site-packages',\n",
      " '/home/s-sato/notebook/library',\n",
      " '/home/s-sato/anaconda3/lib/python3.7/site-packages/IPython/extensions',\n",
      " '/home/s-sato/.ipython']\n"
     ]
    }
   ],
   "source": [
    "from keras.models import load_model\n",
    "\n",
    "import matplotlib.pyplot as plt\n",
    "import os.path\n",
    "import sys\n",
    "import pprint\n",
    "import numpy as np\n",
    "\n",
    "from data import DataSet\n",
    "\n",
    "pprint.pprint(sys.path)\n",
    "\n",
    "HOMEDIR = os.path.expanduser(\"~\") + '/'\n",
    "DATA_PATH = HOMEDIR + \"dataset/UCF101/data_file.csv\"\n",
    "FRAME_DIR = HOMEDIR + \"dataset/UCF101/UCF-101_frame\"\n",
    "TRAIN_DIR = FRAME_DIR + \"/train\"\n",
    "TEST_DIR = FRAME_DIR + \"/test\"\n"
   ]
  },
  {
   "cell_type": "code",
   "execution_count": 2,
   "metadata": {
    "ExecuteTime": {
     "end_time": "2019-07-05T04:56:57.921312Z",
     "start_time": "2019-07-05T04:56:57.917932Z"
    }
   },
   "outputs": [],
   "source": [
    "# model can be one of lstm, lrcn, mlp, conv_3d, c3d.\n",
    "model = 'conv_3d'\n",
    "# Must be a weights file.\n",
    "saved_model = HOMEDIR + 'notebook/201907/videoActionRecognitionStudy/data/checkpoints/conv_3d-images.006-3.226.hdf5'\n",
    "# Sequence length must match the lengh used during training.\n",
    "seq_length = 40\n",
    "# Limit must match that used during training.\n",
    "class_limit = 4\n",
    "\n",
    "video_name = 'v_ApplyLipstick_g01_c01'\n",
    "\n",
    "#Chose images or features and image shape based on network.\n",
    "if model in ['conv_3d', 'c3d', 'lrcn']:\n",
    "    data_type = 'images'\n",
    "    image_shape = (80, 80, 3)\n",
    "elif model in ['lstm', 'mlp']:\n",
    "    data_type = 'features'\n",
    "    image_shape = None\n",
    "else:\n",
    "    raise ValueError(\"Invalid model. See train.py for options.\")"
   ]
  },
  {
   "cell_type": "code",
   "execution_count": 3,
   "metadata": {
    "ExecuteTime": {
     "end_time": "2019-07-05T04:57:02.585017Z",
     "start_time": "2019-07-05T04:56:57.923476Z"
    }
   },
   "outputs": [
    {
     "name": "stdout",
     "output_type": "stream",
     "text": [
      "WARNING:tensorflow:From /home/s-sato/anaconda3/lib/python3.7/site-packages/tensorflow/python/framework/op_def_library.py:263: colocate_with (from tensorflow.python.framework.ops) is deprecated and will be removed in a future version.\n",
      "Instructions for updating:\n",
      "Colocations handled automatically by placer.\n",
      "WARNING:tensorflow:From /home/s-sato/anaconda3/lib/python3.7/site-packages/keras/backend/tensorflow_backend.py:3445: calling dropout (from tensorflow.python.ops.nn_ops) with keep_prob is deprecated and will be removed in a future version.\n",
      "Instructions for updating:\n",
      "Please use `rate` instead of `keep_prob`. Rate should be set to `rate = 1 - keep_prob`.\n",
      "WARNING:tensorflow:From /home/s-sato/anaconda3/lib/python3.7/site-packages/tensorflow/python/ops/math_ops.py:3066: to_int32 (from tensorflow.python.ops.math_ops) is deprecated and will be removed in a future version.\n",
      "Instructions for updating:\n",
      "Use tf.cast instead.\n"
     ]
    }
   ],
   "source": [
    " model = load_model(saved_model)"
   ]
  },
  {
   "cell_type": "code",
   "execution_count": 4,
   "metadata": {
    "ExecuteTime": {
     "end_time": "2019-07-05T04:57:03.722991Z",
     "start_time": "2019-07-05T04:57:02.586492Z"
    }
   },
   "outputs": [
    {
     "name": "stdout",
     "output_type": "stream",
     "text": [
      "ApplyLipstick: 0.37\n",
      "ApplyEyeMakeup: 0.12\n",
      "Archery: 0.00\n",
      "BabyCrawling: 0.00\n"
     ]
    }
   ],
   "source": [
    "# Get the data and process it.\n",
    "if image_shape is None:\n",
    "    data = DataSet(seq_length=seq_length, class_limit=class_limit,data_path=DATA_PATH)\n",
    "else:\n",
    "    data = DataSet(seq_length=seq_length, image_shape=image_shape,\n",
    "        class_limit=class_limit,data_path=DATA_PATH)\n",
    "\n",
    "# Extract the sample from the data.\n",
    "sample = data.get_frames_by_filename(video_name, data_type, FRAME_DIR)\n",
    "\n",
    "# Predict!\n",
    "prediction = model.predict(np.expand_dims(sample, axis=0))\n",
    "#print(prediction)\n",
    "data.print_class_from_prediction(np.squeeze(prediction, axis=0))"
   ]
  },
  {
   "cell_type": "code",
   "execution_count": null,
   "metadata": {},
   "outputs": [],
   "source": []
  }
 ],
 "metadata": {
  "kernelspec": {
   "display_name": "Python 3",
   "language": "python",
   "name": "python3"
  },
  "language_info": {
   "codemirror_mode": {
    "name": "ipython",
    "version": 3
   },
   "file_extension": ".py",
   "mimetype": "text/x-python",
   "name": "python",
   "nbconvert_exporter": "python",
   "pygments_lexer": "ipython3",
   "version": "3.7.1"
  },
  "nbTranslate": {
   "displayLangs": [
    "*"
   ],
   "hotkey": "alt-t",
   "langInMainMenu": true,
   "sourceLang": "en",
   "targetLang": "fr",
   "useGoogleTranslate": true
  },
  "toc": {
   "base_numbering": 1,
   "nav_menu": {},
   "number_sections": true,
   "sideBar": true,
   "skip_h1_title": false,
   "title_cell": "Table of Contents",
   "title_sidebar": "Contents",
   "toc_cell": false,
   "toc_position": {},
   "toc_section_display": true,
   "toc_window_display": false
  },
  "varInspector": {
   "cols": {
    "lenName": 16,
    "lenType": 16,
    "lenVar": 40
   },
   "kernels_config": {
    "python": {
     "delete_cmd_postfix": "",
     "delete_cmd_prefix": "del ",
     "library": "var_list.py",
     "varRefreshCmd": "print(var_dic_list())"
    },
    "r": {
     "delete_cmd_postfix": ") ",
     "delete_cmd_prefix": "rm(",
     "library": "var_list.r",
     "varRefreshCmd": "cat(var_dic_list()) "
    }
   },
   "types_to_exclude": [
    "module",
    "function",
    "builtin_function_or_method",
    "instance",
    "_Feature"
   ],
   "window_display": false
  }
 },
 "nbformat": 4,
 "nbformat_minor": 2
}
