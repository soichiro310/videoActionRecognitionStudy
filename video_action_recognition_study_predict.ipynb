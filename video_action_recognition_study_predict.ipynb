{
 "cells": [
  {
   "cell_type": "code",
   "execution_count": 4,
   "metadata": {
    "ExecuteTime": {
     "end_time": "2019-07-08T05:46:55.110898Z",
     "start_time": "2019-07-08T05:46:55.101417Z"
    }
   },
   "outputs": [
    {
     "name": "stdout",
     "output_type": "stream",
     "text": [
      "['/home/s-sato/dataset/UCF101/UCF-101_frame',\n",
      " '/home/s-sato/dataset/UCF101/UCF-101_frame/train',\n",
      " '/home/s-sato/dataset/UCF101/UCF-101_frame/test',\n",
      " '']\n",
      "/home/s-sato/dataset/UCF101/data_file.csv\n",
      "/home/s-sato/notebook/201907/videoActionRecognitionStudy/data/checkpoints/\n"
     ]
    }
   ],
   "source": [
    "from keras.models import load_model\n",
    "\n",
    "import matplotlib.pyplot as plt\n",
    "import os.path\n",
    "import sys\n",
    "import pprint\n",
    "import numpy as np\n",
    "\n",
    "from data import DataSet\n",
    "from DataSetPathCall import DataSetPathCall, UCF101_PathCall\n",
    "\n",
    "#pprint.pprint(sys.path)\n",
    "\n",
    "ucf101 = UCF101_PathCall()\n",
    "ucf101.printPathList()\n",
    "\n",
    "DATA_PATH = ucf101.definePath(\"dataset/UCF101/data_file.csv\")\n",
    "print(DATA_PATH)\n",
    "\n",
    "MODEL_DIR = ucf101.definePath(\"notebook/201907/videoActionRecognitionStudy/data/checkpoints/\")\n",
    "print(MODEL_DIR)\n"
   ]
  },
  {
   "cell_type": "code",
   "execution_count": 5,
   "metadata": {
    "ExecuteTime": {
     "end_time": "2019-07-08T05:46:55.752908Z",
     "start_time": "2019-07-08T05:46:55.733541Z"
    }
   },
   "outputs": [],
   "source": [
    "def predictStart(model_type=\"mlp\",model_name=\"\",seq_length=40,class_limit=4\n",
    "                 ,video_name=\"v_ApplyLipstick_g01_c01\"):\n",
    "    \n",
    "    saved_model = MODEL_DIR + model_name\n",
    "\n",
    "    #Chose images or features and image shape based on network.\n",
    "    if model_type in ['conv_3d', 'c3d', 'lrcn']:\n",
    "        data_type = 'images'\n",
    "        image_shape = (80, 80, 3)\n",
    "    elif model_type in ['lstm', 'mlp']:\n",
    "        data_type = 'features'\n",
    "        image_shape = None\n",
    "    else:\n",
    "        raise ValueError(\"Invalid model. See train.py for options.\")\n",
    "        \n",
    "    model = load_model(saved_model)\n",
    "    \n",
    "    # Get the data and process it.\n",
    "    if image_shape is None:\n",
    "        data = DataSet(seq_length=seq_length, class_limit=class_limit,data_path=DATA_PATH)\n",
    "    else:\n",
    "        data = DataSet(seq_length=seq_length, image_shape=image_shape,\n",
    "            class_limit=class_limit,data_path=DATA_PATH)\n",
    "\n",
    "    # Extract the sample from the data.\n",
    "    sample = data.get_frames_by_filename(video_name, data_type, ucf101.getFrameDir())\n",
    "\n",
    "    # Predict!\n",
    "    prediction = model.predict(np.expand_dims(sample, axis=0))\n",
    "    \n",
    "    print(model_type + \" accuracy\")\n",
    "    #print(prediction)\n",
    "    data.print_class_from_prediction(np.squeeze(prediction, axis=0))\n",
    "    print(\"\")\n"
   ]
  },
  {
   "cell_type": "code",
   "execution_count": 6,
   "metadata": {
    "ExecuteTime": {
     "end_time": "2019-07-08T05:47:04.210813Z",
     "start_time": "2019-07-08T05:46:56.909384Z"
    }
   },
   "outputs": [
    {
     "name": "stdout",
     "output_type": "stream",
     "text": [
      "mlp accuracy\n",
      "ApplyLipstick: 0.06\n",
      "ApplyEyeMakeup: 0.00\n",
      "Archery: 0.00\n",
      "BabyCrawling: 0.00\n",
      "\n"
     ]
    }
   ],
   "source": [
    "predictStart(model_type=\"mlp\",model_name=\"mlp-features.013-1.032.hdf5\")"
   ]
  },
  {
   "cell_type": "code",
   "execution_count": 7,
   "metadata": {
    "ExecuteTime": {
     "end_time": "2019-07-08T05:47:25.113680Z",
     "start_time": "2019-07-08T05:47:09.247247Z"
    }
   },
   "outputs": [
    {
     "name": "stdout",
     "output_type": "stream",
     "text": [
      "lstm accuracy\n",
      "ApplyLipstick: 0.27\n",
      "ApplyEyeMakeup: 0.02\n",
      "Archery: 0.00\n",
      "BabyCrawling: 0.00\n",
      "\n"
     ]
    }
   ],
   "source": [
    "predictStart(model_type=\"lstm\",model_name=\"lstm-features.034-1.000.hdf5\")"
   ]
  },
  {
   "cell_type": "code",
   "execution_count": 8,
   "metadata": {
    "ExecuteTime": {
     "end_time": "2019-07-08T05:47:32.252319Z",
     "start_time": "2019-07-08T05:47:26.837243Z"
    }
   },
   "outputs": [
    {
     "name": "stdout",
     "output_type": "stream",
     "text": [
      "conv_3d accuracy\n",
      "ApplyEyeMakeup: 0.42\n",
      "ApplyLipstick: 0.28\n",
      "Archery: 0.00\n",
      "BabyCrawling: 0.00\n",
      "\n"
     ]
    }
   ],
   "source": [
    "predictStart(model_type=\"conv_3d\",model_name=\"conv_3d-images.013-3.064.hdf5\")"
   ]
  },
  {
   "cell_type": "code",
   "execution_count": 10,
   "metadata": {
    "ExecuteTime": {
     "end_time": "2019-07-08T05:48:01.341757Z",
     "start_time": "2019-07-08T05:47:55.126047Z"
    }
   },
   "outputs": [
    {
     "name": "stdout",
     "output_type": "stream",
     "text": [
      "c3d accuracy\n",
      "ApplyLipstick: 0.54\n",
      "ApplyEyeMakeup: 0.21\n",
      "Archery: 0.00\n",
      "BabyCrawling: 0.00\n",
      "\n"
     ]
    }
   ],
   "source": [
    "predictStart(model_type=\"c3d\",model_name=\"c3d-images.006-3.192.hdf5\")"
   ]
  },
  {
   "cell_type": "code",
   "execution_count": null,
   "metadata": {},
   "outputs": [],
   "source": []
  }
 ],
 "metadata": {
  "kernelspec": {
   "display_name": "Python 3",
   "language": "python",
   "name": "python3"
  },
  "language_info": {
   "codemirror_mode": {
    "name": "ipython",
    "version": 3
   },
   "file_extension": ".py",
   "mimetype": "text/x-python",
   "name": "python",
   "nbconvert_exporter": "python",
   "pygments_lexer": "ipython3",
   "version": "3.7.1"
  },
  "nbTranslate": {
   "displayLangs": [
    "*"
   ],
   "hotkey": "alt-t",
   "langInMainMenu": true,
   "sourceLang": "en",
   "targetLang": "fr",
   "useGoogleTranslate": true
  },
  "toc": {
   "base_numbering": 1,
   "nav_menu": {},
   "number_sections": true,
   "sideBar": true,
   "skip_h1_title": false,
   "title_cell": "Table of Contents",
   "title_sidebar": "Contents",
   "toc_cell": false,
   "toc_position": {},
   "toc_section_display": true,
   "toc_window_display": false
  },
  "varInspector": {
   "cols": {
    "lenName": 16,
    "lenType": 16,
    "lenVar": 40
   },
   "kernels_config": {
    "python": {
     "delete_cmd_postfix": "",
     "delete_cmd_prefix": "del ",
     "library": "var_list.py",
     "varRefreshCmd": "print(var_dic_list())"
    },
    "r": {
     "delete_cmd_postfix": ") ",
     "delete_cmd_prefix": "rm(",
     "library": "var_list.r",
     "varRefreshCmd": "cat(var_dic_list()) "
    }
   },
   "types_to_exclude": [
    "module",
    "function",
    "builtin_function_or_method",
    "instance",
    "_Feature"
   ],
   "window_display": false
  }
 },
 "nbformat": 4,
 "nbformat_minor": 2
}
