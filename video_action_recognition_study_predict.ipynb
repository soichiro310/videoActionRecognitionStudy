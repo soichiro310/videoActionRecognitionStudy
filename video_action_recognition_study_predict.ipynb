{
 "cells": [
  {
   "cell_type": "code",
   "execution_count": 1,
   "metadata": {
    "ExecuteTime": {
     "end_time": "2019-07-05T08:56:45.576713Z",
     "start_time": "2019-07-05T08:56:44.420192Z"
    }
   },
   "outputs": [
    {
     "name": "stderr",
     "output_type": "stream",
     "text": [
      "Using TensorFlow backend.\n"
     ]
    },
    {
     "name": "stdout",
     "output_type": "stream",
     "text": [
      "['/home/s-sato/notebook/201907/videoActionRecognitionStudy',\n",
      " '/home/s-sato/anaconda3/lib/python37.zip',\n",
      " '/home/s-sato/anaconda3/lib/python3.7',\n",
      " '/home/s-sato/anaconda3/lib/python3.7/lib-dynload',\n",
      " '',\n",
      " '/home/s-sato/.local/lib/python3.7/site-packages',\n",
      " '/home/s-sato/anaconda3/lib/python3.7/site-packages',\n",
      " '/home/s-sato/notebook/library',\n",
      " '/home/s-sato/anaconda3/lib/python3.7/site-packages/IPython/extensions',\n",
      " '/home/s-sato/.ipython']\n"
     ]
    }
   ],
   "source": [
    "from keras.models import load_model\n",
    "\n",
    "import matplotlib.pyplot as plt\n",
    "import os.path\n",
    "import sys\n",
    "import pprint\n",
    "import numpy as np\n",
    "\n",
    "from data import DataSet\n",
    "\n",
    "pprint.pprint(sys.path)\n",
    "\n",
    "HOMEDIR = os.path.expanduser(\"~\") + '/'\n",
    "DATA_PATH = HOMEDIR + \"dataset/UCF101/data_file.csv\"\n",
    "FRAME_DIR = HOMEDIR + \"dataset/UCF101/UCF-101_frame\"\n",
    "TRAIN_DIR = FRAME_DIR + \"/train\"\n",
    "TEST_DIR = FRAME_DIR + \"/test\"\n",
    "MODEL_DIR = HOMEDIR + \"notebook/201907/videoActionRecognitionStudy/data/checkpoints/\"\n"
   ]
  },
  {
   "cell_type": "code",
   "execution_count": 2,
   "metadata": {
    "ExecuteTime": {
     "end_time": "2019-07-05T08:56:45.585094Z",
     "start_time": "2019-07-05T08:56:45.579164Z"
    }
   },
   "outputs": [],
   "source": [
    "def predictStart(model_type=\"mlp\",model_name=\"\",seq_length=40,class_limit=4\n",
    "                 ,video_name=\"v_ApplyLipstick_g01_c01\"):\n",
    "    \n",
    "    saved_model = MODEL_DIR + model_name\n",
    "\n",
    "    #Chose images or features and image shape based on network.\n",
    "    if model_type in ['conv_3d', 'c3d', 'lrcn']:\n",
    "        data_type = 'images'\n",
    "        image_shape = (80, 80, 3)\n",
    "    elif model_type in ['lstm', 'mlp']:\n",
    "        data_type = 'features'\n",
    "        image_shape = None\n",
    "    else:\n",
    "        raise ValueError(\"Invalid model. See train.py for options.\")\n",
    "        \n",
    "    model = load_model(saved_model)\n",
    "    \n",
    "    # Get the data and process it.\n",
    "    if image_shape is None:\n",
    "        data = DataSet(seq_length=seq_length, class_limit=class_limit,data_path=DATA_PATH)\n",
    "    else:\n",
    "        data = DataSet(seq_length=seq_length, image_shape=image_shape,\n",
    "            class_limit=class_limit,data_path=DATA_PATH)\n",
    "\n",
    "    # Extract the sample from the data.\n",
    "    sample = data.get_frames_by_filename(video_name, data_type, FRAME_DIR)\n",
    "\n",
    "    # Predict!\n",
    "    prediction = model.predict(np.expand_dims(sample, axis=0))\n",
    "    \n",
    "    print(model_type + \" accuracy\")\n",
    "    #print(prediction)\n",
    "    data.print_class_from_prediction(np.squeeze(prediction, axis=0))\n",
    "    print(\"\")\n"
   ]
  },
  {
   "cell_type": "code",
   "execution_count": 3,
   "metadata": {
    "ExecuteTime": {
     "end_time": "2019-07-05T08:56:51.364629Z",
     "start_time": "2019-07-05T08:56:45.587348Z"
    }
   },
   "outputs": [
    {
     "name": "stdout",
     "output_type": "stream",
     "text": [
      "WARNING:tensorflow:From /home/s-sato/anaconda3/lib/python3.7/site-packages/tensorflow/python/framework/op_def_library.py:263: colocate_with (from tensorflow.python.framework.ops) is deprecated and will be removed in a future version.\n",
      "Instructions for updating:\n",
      "Colocations handled automatically by placer.\n",
      "WARNING:tensorflow:From /home/s-sato/anaconda3/lib/python3.7/site-packages/keras/backend/tensorflow_backend.py:3445: calling dropout (from tensorflow.python.ops.nn_ops) with keep_prob is deprecated and will be removed in a future version.\n",
      "Instructions for updating:\n",
      "Please use `rate` instead of `keep_prob`. Rate should be set to `rate = 1 - keep_prob`.\n",
      "WARNING:tensorflow:From /home/s-sato/anaconda3/lib/python3.7/site-packages/tensorflow/python/ops/math_ops.py:3066: to_int32 (from tensorflow.python.ops.math_ops) is deprecated and will be removed in a future version.\n",
      "Instructions for updating:\n",
      "Use tf.cast instead.\n",
      "conv_3d accuracy\n",
      "ApplyLipstick: 0.37\n",
      "ApplyEyeMakeup: 0.12\n",
      "Archery: 0.00\n",
      "BabyCrawling: 0.00\n",
      "\n"
     ]
    }
   ],
   "source": [
    "predictStart(model_type=\"conv_3d\",model_name=\"conv_3d-images.006-3.226.hdf5\")"
   ]
  },
  {
   "cell_type": "code",
   "execution_count": 4,
   "metadata": {
    "ExecuteTime": {
     "end_time": "2019-07-05T08:56:53.540069Z",
     "start_time": "2019-07-05T08:56:51.367205Z"
    }
   },
   "outputs": [
    {
     "name": "stdout",
     "output_type": "stream",
     "text": [
      "mlp accuracy\n",
      "ApplyEyeMakeup: 0.29\n",
      "ApplyLipstick: 0.12\n",
      "BabyCrawling: 0.00\n",
      "Archery: 0.00\n",
      "\n"
     ]
    }
   ],
   "source": [
    "predictStart(model_type=\"mlp\",model_name=\"mlp-features.001-2.023.hdf5\")"
   ]
  },
  {
   "cell_type": "code",
   "execution_count": 5,
   "metadata": {
    "ExecuteTime": {
     "end_time": "2019-07-05T08:57:04.595932Z",
     "start_time": "2019-07-05T08:56:53.541293Z"
    }
   },
   "outputs": [
    {
     "name": "stdout",
     "output_type": "stream",
     "text": [
      "lstm accuracy\n",
      "ApplyEyeMakeup: 0.17\n",
      "ApplyLipstick: 0.03\n",
      "BabyCrawling: 0.01\n",
      "Archery: 0.01\n",
      "\n"
     ]
    }
   ],
   "source": [
    "predictStart(model_type=\"lstm\",model_name=\"lstm-features.002-3.502.hdf5\")"
   ]
  }
 ],
 "metadata": {
  "kernelspec": {
   "display_name": "Python 3",
   "language": "python",
   "name": "python3"
  },
  "language_info": {
   "codemirror_mode": {
    "name": "ipython",
    "version": 3
   },
   "file_extension": ".py",
   "mimetype": "text/x-python",
   "name": "python",
   "nbconvert_exporter": "python",
   "pygments_lexer": "ipython3",
   "version": "3.7.1"
  },
  "nbTranslate": {
   "displayLangs": [
    "*"
   ],
   "hotkey": "alt-t",
   "langInMainMenu": true,
   "sourceLang": "en",
   "targetLang": "fr",
   "useGoogleTranslate": true
  },
  "toc": {
   "base_numbering": 1,
   "nav_menu": {},
   "number_sections": true,
   "sideBar": true,
   "skip_h1_title": false,
   "title_cell": "Table of Contents",
   "title_sidebar": "Contents",
   "toc_cell": false,
   "toc_position": {},
   "toc_section_display": true,
   "toc_window_display": false
  },
  "varInspector": {
   "cols": {
    "lenName": 16,
    "lenType": 16,
    "lenVar": 40
   },
   "kernels_config": {
    "python": {
     "delete_cmd_postfix": "",
     "delete_cmd_prefix": "del ",
     "library": "var_list.py",
     "varRefreshCmd": "print(var_dic_list())"
    },
    "r": {
     "delete_cmd_postfix": ") ",
     "delete_cmd_prefix": "rm(",
     "library": "var_list.r",
     "varRefreshCmd": "cat(var_dic_list()) "
    }
   },
   "types_to_exclude": [
    "module",
    "function",
    "builtin_function_or_method",
    "instance",
    "_Feature"
   ],
   "window_display": false
  }
 },
 "nbformat": 4,
 "nbformat_minor": 2
}
