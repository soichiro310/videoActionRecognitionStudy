{
 "cells": [
  {
   "cell_type": "markdown",
   "metadata": {},
   "source": [
    "### ライブラリインポート"
   ]
  },
  {
   "cell_type": "code",
   "execution_count": 1,
   "metadata": {
    "ExecuteTime": {
     "end_time": "2019-07-08T00:29:28.775173Z",
     "start_time": "2019-07-08T00:29:27.555406Z"
    }
   },
   "outputs": [
    {
     "name": "stderr",
     "output_type": "stream",
     "text": [
      "Using TensorFlow backend.\n"
     ]
    }
   ],
   "source": [
    "from keras.callbacks import ModelCheckpoint, TensorBoard, EarlyStopping, CSVLogger\n",
    "\n",
    "import matplotlib.pyplot as plt\n",
    "import os.path\n",
    "import sys\n",
    "import pprint\n",
    "import numpy\n",
    "\n",
    "#pprint.pprint(sys.path)"
   ]
  },
  {
   "cell_type": "markdown",
   "metadata": {},
   "source": [
    "### 自前で用意したライブラリインポート ＋ データセットパス指定"
   ]
  },
  {
   "cell_type": "code",
   "execution_count": 2,
   "metadata": {
    "ExecuteTime": {
     "end_time": "2019-07-08T00:29:30.052013Z",
     "start_time": "2019-07-08T00:29:29.992519Z"
    }
   },
   "outputs": [],
   "source": [
    "from data import DataSet\n",
    "from cnn_models import ResearchModels\n",
    "import time\n",
    "\n",
    "HOMEDIR = os.path.expanduser(\"~\") + '/'\n",
    "DATA_PATH = HOMEDIR + \"dataset/UCF101/data_file.csv\"\n",
    "FRAME_DIR = HOMEDIR + \"dataset/UCF101/UCF-101_frame\"\n",
    "TRAIN_DIR = FRAME_DIR + \"/train\"\n",
    "TEST_DIR = FRAME_DIR + \"/test\"\n",
    "\n",
    "data = DataSet(data_path=DATA_PATH)"
   ]
  },
  {
   "cell_type": "markdown",
   "metadata": {},
   "source": [
    "### GPU制限(念の為)"
   ]
  },
  {
   "cell_type": "code",
   "execution_count": 3,
   "metadata": {
    "ExecuteTime": {
     "end_time": "2019-07-08T00:29:32.780177Z",
     "start_time": "2019-07-08T00:29:32.058157Z"
    }
   },
   "outputs": [],
   "source": [
    "import trainSetting \n",
    "\n",
    "trainSetting.GPU_Limit(0.8)\n",
    "#trainSetting.GPU_LimitAllow()"
   ]
  },
  {
   "cell_type": "markdown",
   "metadata": {},
   "source": [
    "### 学習を行う関数(参考コードそのまま)"
   ]
  },
  {
   "cell_type": "code",
   "execution_count": 4,
   "metadata": {
    "ExecuteTime": {
     "end_time": "2019-07-08T00:29:35.153063Z",
     "start_time": "2019-07-08T00:29:35.130196Z"
    }
   },
   "outputs": [],
   "source": [
    "def train(data_type, seq_length, model, saved_model=None,\n",
    "          class_limit=None, image_shape=None,\n",
    "          load_to_memory=False, batch_size=32, nb_epoch=100):\n",
    "    # Helper: Save the model.\n",
    "    checkpointer = ModelCheckpoint(\n",
    "        filepath=os.path.join('data', 'checkpoints', model + '-' + data_type + \\\n",
    "            '.{epoch:03d}-{val_loss:.3f}.hdf5'),\n",
    "        verbose=1,\n",
    "        save_best_only=True)\n",
    "\n",
    "    # Helper: TensorBoard\n",
    "    tb = TensorBoard(log_dir=os.path.join('data', 'logs', model))\n",
    "\n",
    "    # Helper: Stop when we stop learning.\n",
    "    early_stopper = EarlyStopping(patience=5)\n",
    "\n",
    "    # Helper: Save results.\n",
    "    timestamp = time.time()\n",
    "    csv_logger = CSVLogger(os.path.join('data', 'logs', model + '-' + 'training-' + \\\n",
    "        str(timestamp) + '.log'))\n",
    "\n",
    "    # Get the data and process it.\n",
    "    if image_shape is None:\n",
    "        data = DataSet(\n",
    "            seq_length=seq_length,\n",
    "            class_limit=class_limit,\n",
    "            data_path=DATA_PATH\n",
    "        )\n",
    "    else:\n",
    "        data = DataSet(\n",
    "            seq_length=seq_length,\n",
    "            class_limit=class_limit,\n",
    "            image_shape=image_shape,\n",
    "            data_path=DATA_PATH\n",
    "        )\n",
    "\n",
    "    # Get samples per epoch.\n",
    "    # Multiply by 0.7 to attempt to guess how much of data.data is the train set.\n",
    "    steps_per_epoch = (len(data.data) * 0.7) // batch_size\n",
    "\n",
    "    if load_to_memory:\n",
    "        # Get data.\n",
    "        X, y = data.get_all_sequences_in_memory('train', data_type, FRAME_DIR)\n",
    "        X_test, y_test = data.get_all_sequences_in_memory('test', data_type, FRAME_DIR)\n",
    "    else:\n",
    "        # Get generators.\n",
    "        generator = data.frame_generator(batch_size, 'train', data_type, FRAME_DIR)\n",
    "        val_generator = data.frame_generator(batch_size, 'test', data_type, FRAME_DIR)\n",
    "\n",
    "    # Get the model.\n",
    "    rm = ResearchModels(len(data.classes), model, seq_length, saved_model)\n",
    "\n",
    "    # Fit!\n",
    "    if load_to_memory:\n",
    "        # Use standard fit.\n",
    "        rm.model.fit(\n",
    "            X,\n",
    "            y,\n",
    "            batch_size=batch_size,\n",
    "            validation_data=(X_test, y_test),\n",
    "            verbose=1,\n",
    "            callbacks=[tb, early_stopper, csv_logger],\n",
    "            epochs=nb_epoch)\n",
    "    else:\n",
    "        # Use fit generator.\n",
    "        rm.model.fit_generator(\n",
    "            generator=generator,\n",
    "            steps_per_epoch=steps_per_epoch,\n",
    "            epochs=nb_epoch,\n",
    "            verbose=1,\n",
    "            callbacks=[tb, early_stopper, csv_logger, checkpointer],\n",
    "            validation_data=val_generator,\n",
    "            validation_steps=40,\n",
    "            workers=4)"
   ]
  },
  {
   "cell_type": "markdown",
   "metadata": {},
   "source": [
    "### 各種パラメータ設定"
   ]
  },
  {
   "cell_type": "code",
   "execution_count": 5,
   "metadata": {
    "ExecuteTime": {
     "end_time": "2019-07-08T00:29:37.194960Z",
     "start_time": "2019-07-08T00:29:37.185345Z"
    }
   },
   "outputs": [],
   "source": [
    "def trainStart(model='conv_3d', saved_model=None,class_limit=None\n",
    "               ,seq_length=40,load_to_memory=False,batch_size=24,nb_epoch=1):\n",
    "    \n",
    "    # Chose images or features and image shape based on network.\n",
    "    if model in ['conv_3d', 'c3d', 'lrcn']:\n",
    "        data_type = 'images'\n",
    "        image_shape = (80, 80, 3)\n",
    "    elif model in ['lstm', 'mlp']:\n",
    "        data_type = 'features'\n",
    "        image_shape = None\n",
    "    else:\n",
    "        raise ValueError(\"Invalid model. See train.py for options.\")\n",
    "    \n",
    "    train(data_type, seq_length, model, saved_model=saved_model,\n",
    "          class_limit=class_limit, image_shape=image_shape,\n",
    "          load_to_memory=load_to_memory, batch_size=batch_size, nb_epoch=nb_epoch)"
   ]
  },
  {
   "cell_type": "markdown",
   "metadata": {},
   "source": [
    "### 学習！！"
   ]
  },
  {
   "cell_type": "code",
   "execution_count": 6,
   "metadata": {
    "ExecuteTime": {
     "end_time": "2019-07-05T09:03:45.670628Z",
     "start_time": "2019-07-05T08:59:49.311771Z"
    }
   },
   "outputs": [
    {
     "name": "stdout",
     "output_type": "stream",
     "text": [
      "Loading simple MLP.\n",
      "WARNING:tensorflow:From /home/s-sato/anaconda3/lib/python3.7/site-packages/tensorflow/python/framework/op_def_library.py:263: colocate_with (from tensorflow.python.framework.ops) is deprecated and will be removed in a future version.\n",
      "Instructions for updating:\n",
      "Colocations handled automatically by placer.\n",
      "WARNING:tensorflow:From /home/s-sato/anaconda3/lib/python3.7/site-packages/keras/backend/tensorflow_backend.py:3445: calling dropout (from tensorflow.python.ops.nn_ops) with keep_prob is deprecated and will be removed in a future version.\n",
      "Instructions for updating:\n",
      "Please use `rate` instead of `keep_prob`. Rate should be set to `rate = 1 - keep_prob`.\n",
      "_________________________________________________________________\n",
      "Layer (type)                 Output Shape              Param #   \n",
      "=================================================================\n",
      "flatten_1 (Flatten)          (None, 81920)             0         \n",
      "_________________________________________________________________\n",
      "dense_1 (Dense)              (None, 512)               41943552  \n",
      "_________________________________________________________________\n",
      "dropout_1 (Dropout)          (None, 512)               0         \n",
      "_________________________________________________________________\n",
      "dense_2 (Dense)              (None, 512)               262656    \n",
      "_________________________________________________________________\n",
      "dropout_2 (Dropout)          (None, 512)               0         \n",
      "_________________________________________________________________\n",
      "dense_3 (Dense)              (None, 101)               51813     \n",
      "=================================================================\n",
      "Total params: 42,258,021\n",
      "Trainable params: 42,258,021\n",
      "Non-trainable params: 0\n",
      "_________________________________________________________________\n",
      "None\n",
      "WARNING:tensorflow:From /home/s-sato/anaconda3/lib/python3.7/site-packages/tensorflow/python/ops/math_ops.py:3066: to_int32 (from tensorflow.python.ops.math_ops) is deprecated and will be removed in a future version.\n",
      "Instructions for updating:\n",
      "Use tf.cast instead.\n",
      "Epoch 1/100\n",
      "Creating test generator with 3418 samples.Creating train generator with 8596 samples.\n",
      "\n",
      "350/350 [==============================] - 13s 37ms/step - loss: 3.6731 - acc: 0.2436 - top_k_categorical_accuracy: 0.4465 - val_loss: 1.9225 - val_acc: 0.5458 - val_top_k_categorical_accuracy: 0.7865\n",
      "\n",
      "Epoch 00001: val_loss improved from inf to 1.92248, saving model to data/checkpoints/mlp-features.001-1.922.hdf5\n",
      "Epoch 2/100\n",
      "350/350 [==============================] - 13s 37ms/step - loss: 1.9792 - acc: 0.5174 - top_k_categorical_accuracy: 0.7676 - val_loss: 1.4503 - val_acc: 0.6500 - val_top_k_categorical_accuracy: 0.8448\n",
      "\n",
      "Epoch 00002: val_loss improved from 1.92248 to 1.45033, saving model to data/checkpoints/mlp-features.002-1.450.hdf5\n",
      "Epoch 3/100\n",
      "350/350 [==============================] - 13s 37ms/step - loss: 1.3987 - acc: 0.6432 - top_k_categorical_accuracy: 0.8637 - val_loss: 1.3396 - val_acc: 0.6573 - val_top_k_categorical_accuracy: 0.8698\n",
      "\n",
      "Epoch 00003: val_loss improved from 1.45033 to 1.33957, saving model to data/checkpoints/mlp-features.003-1.340.hdf5\n",
      "Epoch 4/100\n",
      "350/350 [==============================] - 13s 36ms/step - loss: 1.1060 - acc: 0.7096 - top_k_categorical_accuracy: 0.9031 - val_loss: 1.2331 - val_acc: 0.6917 - val_top_k_categorical_accuracy: 0.8729\n",
      "\n",
      "Epoch 00004: val_loss improved from 1.33957 to 1.23311, saving model to data/checkpoints/mlp-features.004-1.233.hdf5\n",
      "Epoch 5/100\n",
      "350/350 [==============================] - 13s 36ms/step - loss: 0.8791 - acc: 0.7651 - top_k_categorical_accuracy: 0.9375 - val_loss: 1.1963 - val_acc: 0.6896 - val_top_k_categorical_accuracy: 0.8896\n",
      "\n",
      "Epoch 00005: val_loss improved from 1.23311 to 1.19634, saving model to data/checkpoints/mlp-features.005-1.196.hdf5\n",
      "Epoch 6/100\n",
      "350/350 [==============================] - 13s 36ms/step - loss: 0.7252 - acc: 0.7994 - top_k_categorical_accuracy: 0.9545 - val_loss: 1.2921 - val_acc: 0.6969 - val_top_k_categorical_accuracy: 0.8760\n",
      "\n",
      "Epoch 00006: val_loss did not improve from 1.19634\n",
      "Epoch 7/100\n",
      "350/350 [==============================] - 13s 36ms/step - loss: 0.6109 - acc: 0.8267 - top_k_categorical_accuracy: 0.9670 - val_loss: 1.2075 - val_acc: 0.6885 - val_top_k_categorical_accuracy: 0.8979\n",
      "\n",
      "Epoch 00007: val_loss did not improve from 1.19634\n",
      "Epoch 8/100\n",
      "350/350 [==============================] - 13s 37ms/step - loss: 0.5374 - acc: 0.8480 - top_k_categorical_accuracy: 0.9723 - val_loss: 1.2590 - val_acc: 0.6927 - val_top_k_categorical_accuracy: 0.9010\n",
      "\n",
      "Epoch 00008: val_loss did not improve from 1.19634\n",
      "Epoch 9/100\n",
      "350/350 [==============================] - 13s 37ms/step - loss: 0.4552 - acc: 0.8732 - top_k_categorical_accuracy: 0.9798 - val_loss: 1.1713 - val_acc: 0.7292 - val_top_k_categorical_accuracy: 0.9125\n",
      "\n",
      "Epoch 00009: val_loss improved from 1.19634 to 1.17125, saving model to data/checkpoints/mlp-features.009-1.171.hdf5\n",
      "Epoch 10/100\n",
      "350/350 [==============================] - 13s 36ms/step - loss: 0.4080 - acc: 0.8819 - top_k_categorical_accuracy: 0.9832 - val_loss: 1.1451 - val_acc: 0.6979 - val_top_k_categorical_accuracy: 0.8969\n",
      "\n",
      "Epoch 00010: val_loss improved from 1.17125 to 1.14512, saving model to data/checkpoints/mlp-features.010-1.145.hdf5\n",
      "Epoch 11/100\n",
      "350/350 [==============================] - 13s 36ms/step - loss: 0.3729 - acc: 0.8914 - top_k_categorical_accuracy: 0.9835 - val_loss: 1.2317 - val_acc: 0.6813 - val_top_k_categorical_accuracy: 0.9000\n",
      "\n",
      "Epoch 00011: val_loss did not improve from 1.14512\n",
      "Epoch 12/100\n",
      "350/350 [==============================] - 13s 36ms/step - loss: 0.3214 - acc: 0.9094 - top_k_categorical_accuracy: 0.9886 - val_loss: 1.2417 - val_acc: 0.6917 - val_top_k_categorical_accuracy: 0.9052\n",
      "\n",
      "Epoch 00012: val_loss did not improve from 1.14512\n",
      "Epoch 13/100\n",
      "350/350 [==============================] - 13s 36ms/step - loss: 0.2905 - acc: 0.9150 - top_k_categorical_accuracy: 0.9899 - val_loss: 1.0322 - val_acc: 0.7458 - val_top_k_categorical_accuracy: 0.9208\n",
      "\n",
      "Epoch 00013: val_loss improved from 1.14512 to 1.03223, saving model to data/checkpoints/mlp-features.013-1.032.hdf5\n",
      "Epoch 14/100\n",
      "350/350 [==============================] - 13s 36ms/step - loss: 0.2742 - acc: 0.9205 - top_k_categorical_accuracy: 0.9910 - val_loss: 1.2296 - val_acc: 0.7083 - val_top_k_categorical_accuracy: 0.8990\n",
      "\n",
      "Epoch 00014: val_loss did not improve from 1.03223\n",
      "Epoch 15/100\n",
      "350/350 [==============================] - 13s 37ms/step - loss: 0.2496 - acc: 0.9264 - top_k_categorical_accuracy: 0.9927 - val_loss: 1.1938 - val_acc: 0.7146 - val_top_k_categorical_accuracy: 0.9062\n",
      "\n",
      "Epoch 00015: val_loss did not improve from 1.03223\n",
      "Epoch 16/100\n",
      "350/350 [==============================] - 13s 36ms/step - loss: 0.2553 - acc: 0.9270 - top_k_categorical_accuracy: 0.9923 - val_loss: 1.2855 - val_acc: 0.6896 - val_top_k_categorical_accuracy: 0.8896\n",
      "\n",
      "Epoch 00016: val_loss did not improve from 1.03223\n",
      "Epoch 17/100\n",
      "350/350 [==============================] - 13s 37ms/step - loss: 0.2051 - acc: 0.9373 - top_k_categorical_accuracy: 0.9952 - val_loss: 1.1516 - val_acc: 0.7208 - val_top_k_categorical_accuracy: 0.9031\n",
      "\n",
      "Epoch 00017: val_loss did not improve from 1.03223\n",
      "Epoch 18/100\n",
      "350/350 [==============================] - 13s 36ms/step - loss: 0.2090 - acc: 0.9379 - top_k_categorical_accuracy: 0.9944 - val_loss: 1.0828 - val_acc: 0.7458 - val_top_k_categorical_accuracy: 0.9250\n",
      "\n",
      "Epoch 00018: val_loss did not improve from 1.03223\n"
     ]
    }
   ],
   "source": [
    "trainStart(model='mlp',nb_epoch=100)"
   ]
  },
  {
   "cell_type": "code",
   "execution_count": 7,
   "metadata": {
    "ExecuteTime": {
     "end_time": "2019-07-05T09:47:48.277809Z",
     "start_time": "2019-07-05T09:03:45.673746Z"
    }
   },
   "outputs": [
    {
     "name": "stdout",
     "output_type": "stream",
     "text": [
      "Loading LSTM model.\n",
      "_________________________________________________________________\n",
      "Layer (type)                 Output Shape              Param #   \n",
      "=================================================================\n",
      "lstm_1 (LSTM)                (None, 2048)              33562624  \n",
      "_________________________________________________________________\n",
      "dense_4 (Dense)              (None, 512)               1049088   \n",
      "_________________________________________________________________\n",
      "dropout_3 (Dropout)          (None, 512)               0         \n",
      "_________________________________________________________________\n",
      "dense_5 (Dense)              (None, 101)               51813     \n",
      "=================================================================\n",
      "Total params: 34,663,525\n",
      "Trainable params: 34,663,525\n",
      "Non-trainable params: 0\n",
      "_________________________________________________________________\n",
      "None\n",
      "Epoch 1/100\n",
      "Creating test generator with 3418 samples.\n",
      "Creating train generator with 8596 samples.\n",
      "350/350 [==============================] - 70s 199ms/step - loss: 4.5301 - acc: 0.0333 - top_k_categorical_accuracy: 0.1204 - val_loss: 4.2713 - val_acc: 0.1698 - val_top_k_categorical_accuracy: 0.3521\n",
      "\n",
      "Epoch 00001: val_loss improved from inf to 4.27130, saving model to data/checkpoints/lstm-features.001-4.271.hdf5\n",
      "Epoch 2/100\n",
      "350/350 [==============================] - 67s 192ms/step - loss: 4.1771 - acc: 0.1177 - top_k_categorical_accuracy: 0.2783 - val_loss: 3.5473 - val_acc: 0.3312 - val_top_k_categorical_accuracy: 0.5687\n",
      "\n",
      "Epoch 00002: val_loss improved from 4.27130 to 3.54727, saving model to data/checkpoints/lstm-features.002-3.547.hdf5\n",
      "Epoch 3/100\n",
      "350/350 [==============================] - 67s 192ms/step - loss: 3.5973 - acc: 0.2252 - top_k_categorical_accuracy: 0.4496 - val_loss: 2.7582 - val_acc: 0.3552 - val_top_k_categorical_accuracy: 0.6292\n",
      "\n",
      "Epoch 00003: val_loss improved from 3.54727 to 2.75824, saving model to data/checkpoints/lstm-features.003-2.758.hdf5\n",
      "Epoch 4/100\n",
      "350/350 [==============================] - 67s 192ms/step - loss: 3.0156 - acc: 0.3176 - top_k_categorical_accuracy: 0.5743 - val_loss: 2.1638 - val_acc: 0.4563 - val_top_k_categorical_accuracy: 0.7396\n",
      "\n",
      "Epoch 00004: val_loss improved from 2.75824 to 2.16379, saving model to data/checkpoints/lstm-features.004-2.164.hdf5\n",
      "Epoch 5/100\n",
      "350/350 [==============================] - 67s 192ms/step - loss: 2.6403 - acc: 0.3704 - top_k_categorical_accuracy: 0.6444 - val_loss: 1.9378 - val_acc: 0.4719 - val_top_k_categorical_accuracy: 0.7948\n",
      "\n",
      "Epoch 00005: val_loss improved from 2.16379 to 1.93783, saving model to data/checkpoints/lstm-features.005-1.938.hdf5\n",
      "Epoch 6/100\n",
      "350/350 [==============================] - 67s 192ms/step - loss: 2.3248 - acc: 0.4365 - top_k_categorical_accuracy: 0.7073 - val_loss: 1.6639 - val_acc: 0.5604 - val_top_k_categorical_accuracy: 0.8271\n",
      "\n",
      "Epoch 00006: val_loss improved from 1.93783 to 1.66387, saving model to data/checkpoints/lstm-features.006-1.664.hdf5\n",
      "Epoch 7/100\n",
      "350/350 [==============================] - 67s 192ms/step - loss: 2.1250 - acc: 0.4680 - top_k_categorical_accuracy: 0.7506 - val_loss: 1.7471 - val_acc: 0.5313 - val_top_k_categorical_accuracy: 0.8156\n",
      "\n",
      "Epoch 00007: val_loss did not improve from 1.66387\n",
      "Epoch 8/100\n",
      "350/350 [==============================] - 67s 192ms/step - loss: 1.9532 - acc: 0.5055 - top_k_categorical_accuracy: 0.7839 - val_loss: 1.5870 - val_acc: 0.5781 - val_top_k_categorical_accuracy: 0.8531\n",
      "\n",
      "Epoch 00008: val_loss improved from 1.66387 to 1.58702, saving model to data/checkpoints/lstm-features.008-1.587.hdf5\n",
      "Epoch 9/100\n",
      "350/350 [==============================] - 67s 193ms/step - loss: 1.8601 - acc: 0.5168 - top_k_categorical_accuracy: 0.7982 - val_loss: 1.4499 - val_acc: 0.6135 - val_top_k_categorical_accuracy: 0.8542\n",
      "\n",
      "Epoch 00009: val_loss improved from 1.58702 to 1.44992, saving model to data/checkpoints/lstm-features.009-1.450.hdf5\n",
      "Epoch 10/100\n",
      "350/350 [==============================] - 67s 192ms/step - loss: 1.7274 - acc: 0.5398 - top_k_categorical_accuracy: 0.8231 - val_loss: 1.3434 - val_acc: 0.6271 - val_top_k_categorical_accuracy: 0.8875\n",
      "\n",
      "Epoch 00010: val_loss improved from 1.44992 to 1.34335, saving model to data/checkpoints/lstm-features.010-1.343.hdf5\n",
      "Epoch 11/100\n",
      "350/350 [==============================] - 67s 192ms/step - loss: 1.5823 - acc: 0.5814 - top_k_categorical_accuracy: 0.8420 - val_loss: 1.2582 - val_acc: 0.6438 - val_top_k_categorical_accuracy: 0.8917\n",
      "\n",
      "Epoch 00011: val_loss improved from 1.34335 to 1.25823, saving model to data/checkpoints/lstm-features.011-1.258.hdf5\n",
      "Epoch 12/100\n",
      "350/350 [==============================] - 67s 192ms/step - loss: 1.5437 - acc: 0.5864 - top_k_categorical_accuracy: 0.8514 - val_loss: 1.2876 - val_acc: 0.6552 - val_top_k_categorical_accuracy: 0.8760\n",
      "\n",
      "Epoch 00012: val_loss did not improve from 1.25823\n",
      "Epoch 13/100\n",
      "350/350 [==============================] - 67s 192ms/step - loss: 1.4243 - acc: 0.6174 - top_k_categorical_accuracy: 0.8727 - val_loss: 1.3472 - val_acc: 0.6417 - val_top_k_categorical_accuracy: 0.8729\n",
      "\n",
      "Epoch 00013: val_loss did not improve from 1.25823\n",
      "Epoch 14/100\n",
      "350/350 [==============================] - 67s 192ms/step - loss: 1.3805 - acc: 0.6283 - top_k_categorical_accuracy: 0.8760 - val_loss: 1.3167 - val_acc: 0.6719 - val_top_k_categorical_accuracy: 0.8802\n",
      "\n",
      "Epoch 00014: val_loss did not improve from 1.25823\n",
      "Epoch 15/100\n",
      "350/350 [==============================] - 67s 192ms/step - loss: 1.2908 - acc: 0.6476 - top_k_categorical_accuracy: 0.8914 - val_loss: 1.1505 - val_acc: 0.6750 - val_top_k_categorical_accuracy: 0.9062\n",
      "\n",
      "Epoch 00015: val_loss improved from 1.25823 to 1.15047, saving model to data/checkpoints/lstm-features.015-1.150.hdf5\n",
      "Epoch 16/100\n",
      "350/350 [==============================] - 67s 192ms/step - loss: 1.2810 - acc: 0.6502 - top_k_categorical_accuracy: 0.8938 - val_loss: 1.2605 - val_acc: 0.6490 - val_top_k_categorical_accuracy: 0.8938\n",
      "\n",
      "Epoch 00016: val_loss did not improve from 1.15047\n",
      "Epoch 17/100\n",
      "350/350 [==============================] - 67s 192ms/step - loss: 1.2035 - acc: 0.6692 - top_k_categorical_accuracy: 0.9019 - val_loss: 1.2009 - val_acc: 0.6750 - val_top_k_categorical_accuracy: 0.9000\n",
      "\n",
      "Epoch 00017: val_loss did not improve from 1.15047\n",
      "Epoch 18/100\n",
      "350/350 [==============================] - 67s 192ms/step - loss: 1.1594 - acc: 0.6814 - top_k_categorical_accuracy: 0.9101 - val_loss: 1.2107 - val_acc: 0.6635 - val_top_k_categorical_accuracy: 0.9000\n",
      "\n",
      "Epoch 00018: val_loss did not improve from 1.15047\n",
      "Epoch 19/100\n",
      "350/350 [==============================] - 67s 192ms/step - loss: 1.1107 - acc: 0.6948 - top_k_categorical_accuracy: 0.9171 - val_loss: 1.2075 - val_acc: 0.6667 - val_top_k_categorical_accuracy: 0.8906\n",
      "\n",
      "Epoch 00019: val_loss did not improve from 1.15047\n",
      "Epoch 20/100\n",
      "350/350 [==============================] - 67s 192ms/step - loss: 1.0289 - acc: 0.7108 - top_k_categorical_accuracy: 0.9302 - val_loss: 1.1090 - val_acc: 0.6969 - val_top_k_categorical_accuracy: 0.9208\n",
      "\n",
      "Epoch 00020: val_loss improved from 1.15047 to 1.10899, saving model to data/checkpoints/lstm-features.020-1.109.hdf5\n",
      "Epoch 21/100\n",
      "350/350 [==============================] - 67s 192ms/step - loss: 0.9962 - acc: 0.7188 - top_k_categorical_accuracy: 0.9294 - val_loss: 1.2320 - val_acc: 0.6573 - val_top_k_categorical_accuracy: 0.9156\n",
      "\n",
      "Epoch 00021: val_loss did not improve from 1.10899\n",
      "Epoch 22/100\n",
      "350/350 [==============================] - 67s 192ms/step - loss: 0.9480 - acc: 0.7279 - top_k_categorical_accuracy: 0.9405 - val_loss: 1.2208 - val_acc: 0.6844 - val_top_k_categorical_accuracy: 0.9146\n",
      "\n",
      "Epoch 00022: val_loss did not improve from 1.10899\n",
      "Epoch 23/100\n",
      "350/350 [==============================] - 67s 192ms/step - loss: 0.9058 - acc: 0.7411 - top_k_categorical_accuracy: 0.9445 - val_loss: 1.1783 - val_acc: 0.6823 - val_top_k_categorical_accuracy: 0.9115\n",
      "\n",
      "Epoch 00023: val_loss did not improve from 1.10899\n",
      "Epoch 24/100\n",
      "350/350 [==============================] - 67s 192ms/step - loss: 0.8831 - acc: 0.7523 - top_k_categorical_accuracy: 0.9454 - val_loss: 1.1698 - val_acc: 0.6938 - val_top_k_categorical_accuracy: 0.9083\n",
      "\n",
      "Epoch 00024: val_loss did not improve from 1.10899\n",
      "Epoch 25/100\n"
     ]
    },
    {
     "name": "stdout",
     "output_type": "stream",
     "text": [
      "350/350 [==============================] - 67s 192ms/step - loss: 0.8424 - acc: 0.7580 - top_k_categorical_accuracy: 0.9512 - val_loss: 1.0799 - val_acc: 0.7104 - val_top_k_categorical_accuracy: 0.9187\n",
      "\n",
      "Epoch 00025: val_loss improved from 1.10899 to 1.07986, saving model to data/checkpoints/lstm-features.025-1.080.hdf5\n",
      "Epoch 26/100\n",
      "350/350 [==============================] - 67s 192ms/step - loss: 0.8103 - acc: 0.7695 - top_k_categorical_accuracy: 0.9512 - val_loss: 1.1631 - val_acc: 0.6875 - val_top_k_categorical_accuracy: 0.9146\n",
      "\n",
      "Epoch 00026: val_loss did not improve from 1.07986\n",
      "Epoch 27/100\n",
      "350/350 [==============================] - 67s 192ms/step - loss: 0.7948 - acc: 0.7724 - top_k_categorical_accuracy: 0.9555 - val_loss: 1.0944 - val_acc: 0.7198 - val_top_k_categorical_accuracy: 0.9125\n",
      "\n",
      "Epoch 00027: val_loss did not improve from 1.07986\n",
      "Epoch 28/100\n",
      "350/350 [==============================] - 67s 192ms/step - loss: 0.7621 - acc: 0.7812 - top_k_categorical_accuracy: 0.9588 - val_loss: 1.0587 - val_acc: 0.7156 - val_top_k_categorical_accuracy: 0.9229\n",
      "\n",
      "Epoch 00028: val_loss improved from 1.07986 to 1.05871, saving model to data/checkpoints/lstm-features.028-1.059.hdf5\n",
      "Epoch 29/100\n",
      "350/350 [==============================] - 67s 192ms/step - loss: 0.7169 - acc: 0.7887 - top_k_categorical_accuracy: 0.9663 - val_loss: 1.0474 - val_acc: 0.7229 - val_top_k_categorical_accuracy: 0.9333\n",
      "\n",
      "Epoch 00029: val_loss improved from 1.05871 to 1.04740, saving model to data/checkpoints/lstm-features.029-1.047.hdf5\n",
      "Epoch 30/100\n",
      "350/350 [==============================] - 67s 192ms/step - loss: 0.7282 - acc: 0.7927 - top_k_categorical_accuracy: 0.9604 - val_loss: 1.1946 - val_acc: 0.7042 - val_top_k_categorical_accuracy: 0.9198\n",
      "\n",
      "Epoch 00030: val_loss did not improve from 1.04740\n",
      "Epoch 31/100\n",
      "350/350 [==============================] - 67s 192ms/step - loss: 0.6663 - acc: 0.8096 - top_k_categorical_accuracy: 0.9667 - val_loss: 1.1002 - val_acc: 0.7167 - val_top_k_categorical_accuracy: 0.9313\n",
      "\n",
      "Epoch 00031: val_loss did not improve from 1.04740\n",
      "Epoch 32/100\n",
      "350/350 [==============================] - 67s 192ms/step - loss: 0.6361 - acc: 0.8138 - top_k_categorical_accuracy: 0.9710 - val_loss: 1.2074 - val_acc: 0.7104 - val_top_k_categorical_accuracy: 0.9240\n",
      "\n",
      "Epoch 00032: val_loss did not improve from 1.04740\n",
      "Epoch 33/100\n",
      "350/350 [==============================] - 67s 192ms/step - loss: 0.6064 - acc: 0.8237 - top_k_categorical_accuracy: 0.9738 - val_loss: 1.1503 - val_acc: 0.7083 - val_top_k_categorical_accuracy: 0.9292\n",
      "\n",
      "Epoch 00033: val_loss did not improve from 1.04740\n",
      "Epoch 34/100\n",
      "350/350 [==============================] - 67s 192ms/step - loss: 0.6058 - acc: 0.8258 - top_k_categorical_accuracy: 0.9718 - val_loss: 1.0003 - val_acc: 0.7438 - val_top_k_categorical_accuracy: 0.9323\n",
      "\n",
      "Epoch 00034: val_loss improved from 1.04740 to 1.00032, saving model to data/checkpoints/lstm-features.034-1.000.hdf5\n",
      "Epoch 35/100\n",
      "350/350 [==============================] - 67s 192ms/step - loss: 0.5689 - acc: 0.8301 - top_k_categorical_accuracy: 0.9768 - val_loss: 1.2008 - val_acc: 0.7063 - val_top_k_categorical_accuracy: 0.9125\n",
      "\n",
      "Epoch 00035: val_loss did not improve from 1.00032\n",
      "Epoch 36/100\n",
      "350/350 [==============================] - 67s 192ms/step - loss: 0.5483 - acc: 0.8395 - top_k_categorical_accuracy: 0.9792 - val_loss: 1.1756 - val_acc: 0.7281 - val_top_k_categorical_accuracy: 0.9167\n",
      "\n",
      "Epoch 00036: val_loss did not improve from 1.00032\n",
      "Epoch 37/100\n",
      "350/350 [==============================] - 67s 192ms/step - loss: 0.5333 - acc: 0.8446 - top_k_categorical_accuracy: 0.9752 - val_loss: 1.2140 - val_acc: 0.7312 - val_top_k_categorical_accuracy: 0.9031\n",
      "\n",
      "Epoch 00037: val_loss did not improve from 1.00032\n",
      "Epoch 38/100\n",
      "350/350 [==============================] - 67s 192ms/step - loss: 0.5380 - acc: 0.8412 - top_k_categorical_accuracy: 0.9769 - val_loss: 1.1804 - val_acc: 0.7198 - val_top_k_categorical_accuracy: 0.9229\n",
      "\n",
      "Epoch 00038: val_loss did not improve from 1.00032\n",
      "Epoch 39/100\n",
      "350/350 [==============================] - 67s 192ms/step - loss: 0.5245 - acc: 0.8468 - top_k_categorical_accuracy: 0.9780 - val_loss: 1.2433 - val_acc: 0.6990 - val_top_k_categorical_accuracy: 0.9292\n",
      "\n",
      "Epoch 00039: val_loss did not improve from 1.00032\n"
     ]
    }
   ],
   "source": [
    "trainStart(model='lstm',nb_epoch=100)"
   ]
  },
  {
   "cell_type": "code",
   "execution_count": null,
   "metadata": {
    "ExecuteTime": {
     "start_time": "2019-07-08T00:29:41.767Z"
    }
   },
   "outputs": [
    {
     "name": "stdout",
     "output_type": "stream",
     "text": [
      "Loading Conv3D\n",
      "WARNING:tensorflow:From /home/s-sato/anaconda3/lib/python3.7/site-packages/tensorflow/python/framework/op_def_library.py:263: colocate_with (from tensorflow.python.framework.ops) is deprecated and will be removed in a future version.\n",
      "Instructions for updating:\n",
      "Colocations handled automatically by placer.\n",
      "WARNING:tensorflow:From /home/s-sato/anaconda3/lib/python3.7/site-packages/keras/backend/tensorflow_backend.py:3445: calling dropout (from tensorflow.python.ops.nn_ops) with keep_prob is deprecated and will be removed in a future version.\n",
      "Instructions for updating:\n",
      "Please use `rate` instead of `keep_prob`. Rate should be set to `rate = 1 - keep_prob`.\n",
      "_________________________________________________________________\n",
      "Layer (type)                 Output Shape              Param #   \n",
      "=================================================================\n",
      "conv3d_1 (Conv3D)            (None, 38, 78, 78, 32)    2624      \n",
      "_________________________________________________________________\n",
      "max_pooling3d_1 (MaxPooling3 (None, 38, 39, 39, 32)    0         \n",
      "_________________________________________________________________\n",
      "conv3d_2 (Conv3D)            (None, 36, 37, 37, 64)    55360     \n",
      "_________________________________________________________________\n",
      "max_pooling3d_2 (MaxPooling3 (None, 36, 18, 18, 64)    0         \n",
      "_________________________________________________________________\n",
      "conv3d_3 (Conv3D)            (None, 34, 16, 16, 128)   221312    \n",
      "_________________________________________________________________\n",
      "conv3d_4 (Conv3D)            (None, 32, 14, 14, 128)   442496    \n",
      "_________________________________________________________________\n",
      "max_pooling3d_3 (MaxPooling3 (None, 32, 7, 7, 128)     0         \n",
      "_________________________________________________________________\n",
      "conv3d_5 (Conv3D)            (None, 31, 6, 6, 256)     262400    \n",
      "_________________________________________________________________\n",
      "conv3d_6 (Conv3D)            (None, 30, 5, 5, 256)     524544    \n",
      "_________________________________________________________________\n",
      "max_pooling3d_4 (MaxPooling3 (None, 30, 2, 2, 256)     0         \n",
      "_________________________________________________________________\n",
      "flatten_1 (Flatten)          (None, 30720)             0         \n",
      "_________________________________________________________________\n",
      "dense_1 (Dense)              (None, 1024)              31458304  \n",
      "_________________________________________________________________\n",
      "dropout_1 (Dropout)          (None, 1024)              0         \n",
      "_________________________________________________________________\n",
      "dense_2 (Dense)              (None, 1024)              1049600   \n",
      "_________________________________________________________________\n",
      "dropout_2 (Dropout)          (None, 1024)              0         \n",
      "_________________________________________________________________\n",
      "dense_3 (Dense)              (None, 101)               103525    \n",
      "=================================================================\n",
      "Total params: 34,120,165\n",
      "Trainable params: 34,120,165\n",
      "Non-trainable params: 0\n",
      "_________________________________________________________________\n",
      "None\n",
      "WARNING:tensorflow:From /home/s-sato/anaconda3/lib/python3.7/site-packages/tensorflow/python/ops/math_ops.py:3066: to_int32 (from tensorflow.python.ops.math_ops) is deprecated and will be removed in a future version.\n",
      "Instructions for updating:\n",
      "Use tf.cast instead.\n",
      "Epoch 1/100\n",
      "Creating test generator with 3418 samples.Creating train generator with 8596 samples.\n",
      "\n",
      "350/350 [==============================] - 532s 2s/step - loss: 4.5849 - acc: 0.0192 - top_k_categorical_accuracy: 0.0762 - val_loss: 4.4821 - val_acc: 0.0552 - val_top_k_categorical_accuracy: 0.1146\n",
      "\n",
      "Epoch 00001: val_loss improved from inf to 4.48209, saving model to data/checkpoints/conv_3d-images.001-4.482.hdf5\n",
      "Epoch 2/100\n",
      "296/350 [========================>.....] - ETA: 1:13 - loss: 4.3527 - acc: 0.0460 - top_k_categorical_accuracy: 0.1648"
     ]
    }
   ],
   "source": [
    "trainStart(model='conv_3d',nb_epoch=100)"
   ]
  },
  {
   "cell_type": "code",
   "execution_count": null,
   "metadata": {
    "ExecuteTime": {
     "end_time": "2019-07-05T09:48:05.200688Z",
     "start_time": "2019-07-05T08:59:47.303Z"
    }
   },
   "outputs": [],
   "source": [
    "trainStart(model='c3d',nb_epoch=100)"
   ]
  },
  {
   "cell_type": "code",
   "execution_count": null,
   "metadata": {
    "ExecuteTime": {
     "end_time": "2019-07-05T09:48:05.203368Z",
     "start_time": "2019-07-05T08:59:47.312Z"
    }
   },
   "outputs": [],
   "source": [
    "trainStart(model='lrcn',nb_epoch=100)"
   ]
  }
 ],
 "metadata": {
  "kernelspec": {
   "display_name": "Python 3",
   "language": "python",
   "name": "python3"
  },
  "language_info": {
   "codemirror_mode": {
    "name": "ipython",
    "version": 3
   },
   "file_extension": ".py",
   "mimetype": "text/x-python",
   "name": "python",
   "nbconvert_exporter": "python",
   "pygments_lexer": "ipython3",
   "version": "3.7.1"
  },
  "nbTranslate": {
   "displayLangs": [
    "*"
   ],
   "hotkey": "alt-t",
   "langInMainMenu": true,
   "sourceLang": "en",
   "targetLang": "fr",
   "useGoogleTranslate": true
  },
  "toc": {
   "base_numbering": 1,
   "nav_menu": {},
   "number_sections": true,
   "sideBar": true,
   "skip_h1_title": false,
   "title_cell": "Table of Contents",
   "title_sidebar": "Contents",
   "toc_cell": false,
   "toc_position": {},
   "toc_section_display": true,
   "toc_window_display": false
  },
  "varInspector": {
   "cols": {
    "lenName": 16,
    "lenType": 16,
    "lenVar": 40
   },
   "kernels_config": {
    "python": {
     "delete_cmd_postfix": "",
     "delete_cmd_prefix": "del ",
     "library": "var_list.py",
     "varRefreshCmd": "print(var_dic_list())"
    },
    "r": {
     "delete_cmd_postfix": ") ",
     "delete_cmd_prefix": "rm(",
     "library": "var_list.r",
     "varRefreshCmd": "cat(var_dic_list()) "
    }
   },
   "types_to_exclude": [
    "module",
    "function",
    "builtin_function_or_method",
    "instance",
    "_Feature"
   ],
   "window_display": false
  }
 },
 "nbformat": 4,
 "nbformat_minor": 2
}
