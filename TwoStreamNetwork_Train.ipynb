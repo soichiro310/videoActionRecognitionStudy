{
 "cells": [
  {
   "cell_type": "markdown",
   "metadata": {},
   "source": [
    "# Spatial Training"
   ]
  },
  {
   "cell_type": "code",
   "execution_count": 1,
   "metadata": {
    "ExecuteTime": {
     "end_time": "2019-07-12T08:42:17.321685Z",
     "start_time": "2019-07-12T08:42:11.843422Z"
    }
   },
   "outputs": [
    {
     "name": "stderr",
     "output_type": "stream",
     "text": [
      "Using TensorFlow backend.\n"
     ]
    },
    {
     "name": "stdout",
     "output_type": "stream",
     "text": [
      "/home/s-sato/dataset/UCF101/data_file.csv\n"
     ]
    }
   ],
   "source": [
    "from keras.callbacks import TensorBoard, ModelCheckpoint, EarlyStopping, CSVLogger\n",
    "from TwoStreamNetwork.spatial.trainModel import get_model, freeze_all_but_top, freeze_all_but_mid_and_top\n",
    "from TwoStreamNetwork.spatial.trainData import DataSet, get_generators\n",
    "import time\n",
    "import os.path\n",
    "from os import makedirs\n",
    "from DataSetPathCall import UCF101_PathCall\n",
    "\n",
    "ucf101 = UCF101_PathCall()\n",
    "\n",
    "print(ucf101.getDataListPath())"
   ]
  },
  {
   "cell_type": "code",
   "execution_count": 2,
   "metadata": {
    "ExecuteTime": {
     "end_time": "2019-07-12T08:42:24.343915Z",
     "start_time": "2019-07-12T08:42:17.327024Z"
    }
   },
   "outputs": [],
   "source": [
    "import trainSetting \n",
    "\n",
    "trainSetting.GPU_Limit(0.9)\n",
    "#trainSetting.GPU_LimitAllow()"
   ]
  },
  {
   "cell_type": "code",
   "execution_count": 3,
   "metadata": {
    "ExecuteTime": {
     "end_time": "2019-07-12T08:42:27.121799Z",
     "start_time": "2019-07-12T08:42:24.347323Z"
    }
   },
   "outputs": [],
   "source": [
    "def train_model(model, nb_epoch, generators, callbacks=[]):\n",
    "    train_generator, validation_generator = generators\n",
    "    model.fit_generator(\n",
    "        train_generator,\n",
    "        steps_per_epoch=100,\n",
    "        validation_data=validation_generator,\n",
    "        validation_steps=10,\n",
    "        epochs=nb_epoch,\n",
    "        callbacks=callbacks)\n",
    "    return model"
   ]
  },
  {
   "cell_type": "code",
   "execution_count": 4,
   "metadata": {
    "ExecuteTime": {
     "end_time": "2019-07-12T08:42:44.989107Z",
     "start_time": "2019-07-12T08:42:27.124033Z"
    }
   },
   "outputs": [],
   "source": [
    "saved_weights = None\n",
    "class_limit = None  # int, can be 1-101 or None\n",
    "num_of_snip = 1 # number of chunks used for each video\n",
    "image_shape=(224, 224)\n",
    "load_to_memory = False  # pre-load the sequencea in,o memory\n",
    "batch_size = 32\n",
    "nb_epoch = 100\n",
    "name_str = None"
   ]
  },
  {
   "cell_type": "code",
   "execution_count": 5,
   "metadata": {
    "ExecuteTime": {
     "end_time": "2019-07-12T08:44:29.025977Z",
     "start_time": "2019-07-12T08:42:44.992227Z"
    }
   },
   "outputs": [
    {
     "name": "stdout",
     "output_type": "stream",
     "text": [
      "out/checkpoints/1907121742\n",
      "class_limit =  None\n",
      "Found 1788425 images belonging to 101 classes.\n",
      "Found 697865 images belonging to 101 classes.\n",
      "WARNING:tensorflow:From /home/s-sato/anaconda3/lib/python3.7/site-packages/tensorflow/python/framework/op_def_library.py:263: colocate_with (from tensorflow.python.framework.ops) is deprecated and will be removed in a future version.\n",
      "Instructions for updating:\n",
      "Colocations handled automatically by placer.\n"
     ]
    }
   ],
   "source": [
    "# Get local time.\n",
    "time_str = time.strftime(\"%y%m%d%H%M\", time.localtime())\n",
    "\n",
    "if name_str == None:\n",
    "    name_str = time_str\n",
    "\n",
    "# Callbacks: Save the model.\n",
    "directory1 = os.path.join('out', 'checkpoints', name_str)\n",
    "\n",
    "print(directory1)\n",
    "\n",
    "if not os.path.exists(directory1):\n",
    "    os.makedirs(directory1)\n",
    "\n",
    "checkpointer = ModelCheckpoint(\n",
    "    filepath=os.path.join(directory1, '{epoch:03d}-{val_loss:.3f}.hdf5'),\n",
    "    verbose=1,\n",
    "    save_best_only=True)\n",
    "\n",
    "# Callbacks: TensorBoard\n",
    "directory2 = os.path.join('out', 'TB', name_str)\n",
    "if not os.path.exists(directory2):\n",
    "    os.makedirs(directory2)\n",
    "tb = TensorBoard(log_dir=os.path.join(directory2))\n",
    "\n",
    "# Callbacks: Early stoper\n",
    "early_stopper = EarlyStopping(monitor='loss', patience=100)\n",
    "\n",
    "# Callbacks: Save results.\n",
    "directory3 = os.path.join('out', 'logs', name_str)\n",
    "if not os.path.exists(directory3):\n",
    "    os.makedirs(directory3)\n",
    "timestamp = time.time()\n",
    "csv_logger = CSVLogger(os.path.join(directory3, 'training-' + \\\n",
    "    str(timestamp) + '.log'))\n",
    "\n",
    "print(\"class_limit = \", class_limit)\n",
    "\n",
    "if image_shape is None:\n",
    "    data = DataSet(\n",
    "            class_limit=class_limit,\n",
    "            data_path=ucf101.getDataListPath()\n",
    "            )\n",
    "else:\n",
    "    data = DataSet(\n",
    "            image_shape=image_shape,\n",
    "            class_limit=class_limit,\n",
    "            data_path=ucf101.getDataListPath()\n",
    "            )\n",
    "\n",
    "# Get generators.\n",
    "generators = get_generators(data=data, image_shape=image_shape, batch_size=batch_size\n",
    "                            ,trainDir=ucf101.getTrainDir(), validDir=ucf101.getTestDir())\n",
    "\n",
    "# Get the model.\n",
    "model = get_model(data=data)\n"
   ]
  },
  {
   "cell_type": "code",
   "execution_count": 6,
   "metadata": {
    "ExecuteTime": {
     "end_time": "2019-07-12T09:45:13.253231Z",
     "start_time": "2019-07-12T08:44:29.028101Z"
    }
   },
   "outputs": [
    {
     "name": "stdout",
     "output_type": "stream",
     "text": [
      "Loading network from ImageNet weights.\n",
      "Get and train the top layers...\n",
      "WARNING:tensorflow:From /home/s-sato/anaconda3/lib/python3.7/site-packages/tensorflow/python/ops/math_ops.py:3066: to_int32 (from tensorflow.python.ops.math_ops) is deprecated and will be removed in a future version.\n",
      "Instructions for updating:\n",
      "Use tf.cast instead.\n",
      "Epoch 1/10\n",
      "100/100 [==============================] - 875s 9s/step - loss: 4.2326 - acc: 0.1209 - val_loss: 3.2978 - val_acc: 0.2875\n",
      "Epoch 2/10\n",
      "100/100 [==============================] - 397s 4s/step - loss: 3.1993 - acc: 0.2794 - val_loss: 3.4245 - val_acc: 0.2781\n",
      "Epoch 3/10\n",
      "  2/100 [..............................] - ETA: 5:40 - loss: 2.6734 - acc: 0.4062"
     ]
    },
    {
     "name": "stderr",
     "output_type": "stream",
     "text": [
      "/home/s-sato/anaconda3/lib/python3.7/site-packages/keras/callbacks.py:122: UserWarning: Method on_batch_end() is slow compared to the batch update (0.177772). Check your callbacks.\n",
      "  % delta_t_median)\n"
     ]
    },
    {
     "name": "stdout",
     "output_type": "stream",
     "text": [
      "100/100 [==============================] - 291s 3s/step - loss: 2.6215 - acc: 0.3706 - val_loss: 3.1412 - val_acc: 0.3563\n",
      "Epoch 4/10\n",
      "  1/100 [..............................] - ETA: 3:53 - loss: 2.8229 - acc: 0.3125"
     ]
    },
    {
     "name": "stderr",
     "output_type": "stream",
     "text": [
      "/home/s-sato/anaconda3/lib/python3.7/site-packages/keras/callbacks.py:122: UserWarning: Method on_batch_end() is slow compared to the batch update (0.106190). Check your callbacks.\n",
      "  % delta_t_median)\n"
     ]
    },
    {
     "name": "stdout",
     "output_type": "stream",
     "text": [
      "100/100 [==============================] - 287s 3s/step - loss: 2.3843 - acc: 0.4234 - val_loss: 2.8215 - val_acc: 0.3500\n",
      "Epoch 5/10\n",
      "  1/100 [..............................] - ETA: 5:49 - loss: 2.1874 - acc: 0.4688"
     ]
    },
    {
     "name": "stderr",
     "output_type": "stream",
     "text": [
      "/home/s-sato/anaconda3/lib/python3.7/site-packages/keras/callbacks.py:122: UserWarning: Method on_batch_end() is slow compared to the batch update (0.235098). Check your callbacks.\n",
      "  % delta_t_median)\n"
     ]
    },
    {
     "name": "stdout",
     "output_type": "stream",
     "text": [
      "  4/100 [>.............................] - ETA: 6:50 - loss: 2.4741 - acc: 0.3906"
     ]
    },
    {
     "name": "stderr",
     "output_type": "stream",
     "text": [
      "/home/s-sato/anaconda3/lib/python3.7/site-packages/keras/callbacks.py:122: UserWarning: Method on_batch_end() is slow compared to the batch update (0.147431). Check your callbacks.\n",
      "  % delta_t_median)\n"
     ]
    },
    {
     "name": "stdout",
     "output_type": "stream",
     "text": [
      " 67/100 [===================>..........] - ETA: 1:35 - loss: 2.1430 - acc: 0.4655"
     ]
    },
    {
     "name": "stderr",
     "output_type": "stream",
     "text": [
      "/home/s-sato/anaconda3/lib/python3.7/site-packages/keras/callbacks.py:122: UserWarning: Method on_batch_end() is slow compared to the batch update (0.108549). Check your callbacks.\n",
      "  % delta_t_median)\n"
     ]
    },
    {
     "name": "stdout",
     "output_type": "stream",
     "text": [
      "100/100 [==============================] - 293s 3s/step - loss: 2.1514 - acc: 0.4659 - val_loss: 3.5781 - val_acc: 0.3594\n",
      "Epoch 6/10\n",
      "100/100 [==============================] - 292s 3s/step - loss: 2.0183 - acc: 0.4884 - val_loss: 2.4872 - val_acc: 0.4500\n",
      "Epoch 7/10\n",
      "  4/100 [>.............................] - ETA: 6:34 - loss: 2.0341 - acc: 0.4688"
     ]
    },
    {
     "name": "stderr",
     "output_type": "stream",
     "text": [
      "/home/s-sato/anaconda3/lib/python3.7/site-packages/keras/callbacks.py:122: UserWarning: Method on_batch_end() is slow compared to the batch update (0.110970). Check your callbacks.\n",
      "  % delta_t_median)\n"
     ]
    },
    {
     "name": "stdout",
     "output_type": "stream",
     "text": [
      "100/100 [==============================] - 302s 3s/step - loss: 1.9760 - acc: 0.4916 - val_loss: 2.9134 - val_acc: 0.4281\n",
      "Epoch 8/10\n",
      "100/100 [==============================] - 299s 3s/step - loss: 1.8732 - acc: 0.5238 - val_loss: 3.1769 - val_acc: 0.4156\n",
      "Epoch 9/10\n",
      "  1/100 [..............................] - ETA: 6:00 - loss: 1.5206 - acc: 0.5938"
     ]
    },
    {
     "name": "stderr",
     "output_type": "stream",
     "text": [
      "/home/s-sato/anaconda3/lib/python3.7/site-packages/keras/callbacks.py:122: UserWarning: Method on_batch_end() is slow compared to the batch update (0.535921). Check your callbacks.\n",
      "  % delta_t_median)\n"
     ]
    },
    {
     "name": "stdout",
     "output_type": "stream",
     "text": [
      "\b\b\b\b\b\b\b\b\b\b\b\b\b\b\b\b\b\b\b\b\b\b\b\b\b\b\b\b\b\b\b\b\b\b\b\b\b\b\b\b\b\b\b\b\b\b\b\b\b\b\b\b\b\b\b\b\b\b\b\b\b\b\b\b\b\b\b\b\b\b\b\b\b\b\b\b\b\b\b\b\b\r",
      "  2/100 [..............................] - ETA: 6:11 - loss: 1.5814 - acc: 0.5625"
     ]
    },
    {
     "name": "stderr",
     "output_type": "stream",
     "text": [
      "/home/s-sato/anaconda3/lib/python3.7/site-packages/keras/callbacks.py:122: UserWarning: Method on_batch_end() is slow compared to the batch update (0.319867). Check your callbacks.\n",
      "  % delta_t_median)\n"
     ]
    },
    {
     "name": "stdout",
     "output_type": "stream",
     "text": [
      "\b\b\b\b\b\b\b\b\b\b\b\b\b\b\b\b\b\b\b\b\b\b\b\b\b\b\b\b\b\b\b\b\b\b\b\b\b\b\b\b\b\b\b\b\b\b\b\b\b\b\b\b\b\b\b\b\b\b\b\b\b\b\b\b\b\b\b\b\b\b\b\b\b\b\b\b\b\b\b\b\b\r",
      "  3/100 [..............................] - ETA: 6:35 - loss: 1.6905 - acc: 0.5417"
     ]
    },
    {
     "name": "stderr",
     "output_type": "stream",
     "text": [
      "/home/s-sato/anaconda3/lib/python3.7/site-packages/keras/callbacks.py:122: UserWarning: Method on_batch_end() is slow compared to the batch update (0.103814). Check your callbacks.\n",
      "  % delta_t_median)\n"
     ]
    },
    {
     "name": "stdout",
     "output_type": "stream",
     "text": [
      "100/100 [==============================] - 297s 3s/step - loss: 1.8667 - acc: 0.5153 - val_loss: 3.0089 - val_acc: 0.3969\n",
      "Epoch 10/10\n",
      " 12/100 [==>...........................] - ETA: 4:58 - loss: 1.9074 - acc: 0.5052"
     ]
    },
    {
     "name": "stderr",
     "output_type": "stream",
     "text": [
      "/home/s-sato/anaconda3/lib/python3.7/site-packages/keras/callbacks.py:122: UserWarning: Method on_batch_end() is slow compared to the batch update (0.101090). Check your callbacks.\n",
      "  % delta_t_median)\n"
     ]
    },
    {
     "name": "stdout",
     "output_type": "stream",
     "text": [
      "100/100 [==============================] - 309s 3s/step - loss: 1.7400 - acc: 0.5459 - val_loss: 2.8605 - val_acc: 0.4125\n"
     ]
    }
   ],
   "source": [
    "if saved_weights is None:\n",
    "    print(\"Loading network from ImageNet weights.\")\n",
    "    print(\"Get and train the top layers...\")\n",
    "    model = freeze_all_but_top(model)\n",
    "    model = train_model(model, 10, generators)\n",
    "else:\n",
    "    print(\"Loading saved model: %s.\" % saved_weights)\n",
    "    model.load_weights(saved_weights)"
   ]
  },
  {
   "cell_type": "code",
   "execution_count": 7,
   "metadata": {
    "ExecuteTime": {
     "end_time": "2019-07-12T10:35:07.127056Z",
     "start_time": "2019-07-12T09:45:13.353610Z"
    }
   },
   "outputs": [
    {
     "name": "stdout",
     "output_type": "stream",
     "text": [
      "Get and train the mid layers...\n",
      "Epoch 1/10\n",
      "100/100 [==============================] - 302s 3s/step - loss: 1.5371 - acc: 0.6022 - top_k_categorical_accuracy: 0.8384 - val_loss: 2.1495 - val_acc: 0.4844 - val_top_k_categorical_accuracy: 0.7625\n",
      "\n",
      "Epoch 00001: val_loss improved from inf to 2.14948, saving model to out/checkpoints/1907121742/001-2.149.hdf5\n",
      "Epoch 2/10\n",
      "100/100 [==============================] - 274s 3s/step - loss: 1.3709 - acc: 0.6341 - top_k_categorical_accuracy: 0.8656 - val_loss: 2.0863 - val_acc: 0.4844 - val_top_k_categorical_accuracy: 0.7469\n",
      "\n",
      "Epoch 00002: val_loss improved from 2.14948 to 2.08629, saving model to out/checkpoints/1907121742/002-2.086.hdf5\n",
      "Epoch 3/10\n",
      "100/100 [==============================] - 297s 3s/step - loss: 1.3382 - acc: 0.6550 - top_k_categorical_accuracy: 0.8659 - val_loss: 2.0743 - val_acc: 0.5000 - val_top_k_categorical_accuracy: 0.7750\n",
      "\n",
      "Epoch 00003: val_loss improved from 2.08629 to 2.07432, saving model to out/checkpoints/1907121742/003-2.074.hdf5\n",
      "Epoch 4/10\n",
      "  1/100 [..............................] - ETA: 1:44 - loss: 1.1483 - acc: 0.7500 - top_k_categorical_accuracy: 0.8438"
     ]
    },
    {
     "name": "stderr",
     "output_type": "stream",
     "text": [
      "/home/s-sato/anaconda3/lib/python3.7/site-packages/keras/callbacks.py:122: UserWarning: Method on_batch_end() is slow compared to the batch update (1.064031). Check your callbacks.\n",
      "  % delta_t_median)\n"
     ]
    },
    {
     "name": "stdout",
     "output_type": "stream",
     "text": [
      "\b\b\b\b\b\b\b\b\b\b\b\b\b\b\b\b\b\b\b\b\b\b\b\b\b\b\b\b\b\b\b\b\b\b\b\b\b\b\b\b\b\b\b\b\b\b\b\b\b\b\b\b\b\b\b\b\b\b\b\b\b\b\b\b\b\b\b\b\b\b\b\b\b\b\b\b\b\b\b\b\b\b\b\b\b\b\b\b\b\b\b\b\b\b\b\b\b\b\b\b\b\b\b\b\b\b\b\b\b\b\b\b\b\b\b\b\b\b\r",
      "  2/100 [..............................] - ETA: 5:01 - loss: 1.1522 - acc: 0.7344 - top_k_categorical_accuracy: 0.8594"
     ]
    },
    {
     "name": "stderr",
     "output_type": "stream",
     "text": [
      "/home/s-sato/anaconda3/lib/python3.7/site-packages/keras/callbacks.py:122: UserWarning: Method on_batch_end() is slow compared to the batch update (0.741309). Check your callbacks.\n",
      "  % delta_t_median)\n"
     ]
    },
    {
     "name": "stdout",
     "output_type": "stream",
     "text": [
      "\b\b\b\b\b\b\b\b\b\b\b\b\b\b\b\b\b\b\b\b\b\b\b\b\b\b\b\b\b\b\b\b\b\b\b\b\b\b\b\b\b\b\b\b\b\b\b\b\b\b\b\b\b\b\b\b\b\b\b\b\b\b\b\b\b\b\b\b\b\b\b\b\b\b\b\b\b\b\b\b\b\b\b\b\b\b\b\b\b\b\b\b\b\b\b\b\b\b\b\b\b\b\b\b\b\b\b\b\b\b\b\b\b\b\b\b\b\b\r",
      "  3/100 [..............................] - ETA: 5:34 - loss: 1.1474 - acc: 0.6979 - top_k_categorical_accuracy: 0.8854"
     ]
    },
    {
     "name": "stderr",
     "output_type": "stream",
     "text": [
      "/home/s-sato/anaconda3/lib/python3.7/site-packages/keras/callbacks.py:122: UserWarning: Method on_batch_end() is slow compared to the batch update (0.418586). Check your callbacks.\n",
      "  % delta_t_median)\n"
     ]
    },
    {
     "name": "stdout",
     "output_type": "stream",
     "text": [
      "\b\b\b\b\b\b\b\b\b\b\b\b\b\b\b\b\b\b\b\b\b\b\b\b\b\b\b\b\b\b\b\b\b\b\b\b\b\b\b\b\b\b\b\b\b\b\b\b\b\b\b\b\b\b\b\b\b\b\b\b\b\b\b\b\b\b\b\b\b\b\b\b\b\b\b\b\b\b\b\b\b\b\b\b\b\b\b\b\b\b\b\b\b\b\b\b\b\b\b\b\b\b\b\b\b\b\b\b\b\b\b\b\b\b\b\b\b\b\r",
      "  4/100 [>.............................] - ETA: 5:58 - loss: 1.2688 - acc: 0.6797 - top_k_categorical_accuracy: 0.8672"
     ]
    },
    {
     "name": "stderr",
     "output_type": "stream",
     "text": [
      "/home/s-sato/anaconda3/lib/python3.7/site-packages/keras/callbacks.py:122: UserWarning: Method on_batch_end() is slow compared to the batch update (0.271423). Check your callbacks.\n",
      "  % delta_t_median)\n"
     ]
    },
    {
     "name": "stdout",
     "output_type": "stream",
     "text": [
      "\b\b\b\b\b\b\b\b\b\b\b\b\b\b\b\b\b\b\b\b\b\b\b\b\b\b\b\b\b\b\b\b\b\b\b\b\b\b\b\b\b\b\b\b\b\b\b\b\b\b\b\b\b\b\b\b\b\b\b\b\b\b\b\b\b\b\b\b\b\b\b\b\b\b\b\b\b\b\b\b\b\b\b\b\b\b\b\b\b\b\b\b\b\b\b\b\b\b\b\b\b\b\b\b\b\b\b\b\b\b\b\b\b\b\b\b\b\b\r",
      "  5/100 [>.............................] - ETA: 6:09 - loss: 1.2765 - acc: 0.6687 - top_k_categorical_accuracy: 0.8688"
     ]
    },
    {
     "name": "stderr",
     "output_type": "stream",
     "text": [
      "/home/s-sato/anaconda3/lib/python3.7/site-packages/keras/callbacks.py:122: UserWarning: Method on_batch_end() is slow compared to the batch update (0.124259). Check your callbacks.\n",
      "  % delta_t_median)\n"
     ]
    },
    {
     "name": "stdout",
     "output_type": "stream",
     "text": [
      "100/100 [==============================] - 301s 3s/step - loss: 1.2488 - acc: 0.6669 - top_k_categorical_accuracy: 0.8809 - val_loss: 2.1032 - val_acc: 0.5219 - val_top_k_categorical_accuracy: 0.7438\n",
      "\n",
      "Epoch 00004: val_loss did not improve from 2.07432\n",
      "Epoch 5/10\n",
      "100/100 [==============================] - 301s 3s/step - loss: 1.1801 - acc: 0.6884 - top_k_categorical_accuracy: 0.8909 - val_loss: 2.0958 - val_acc: 0.4938 - val_top_k_categorical_accuracy: 0.7719\n",
      "\n",
      "Epoch 00005: val_loss did not improve from 2.07432\n",
      "Epoch 6/10\n",
      "100/100 [==============================] - 291s 3s/step - loss: 1.1112 - acc: 0.7106 - top_k_categorical_accuracy: 0.8975 - val_loss: 1.9529 - val_acc: 0.5125 - val_top_k_categorical_accuracy: 0.7781\n",
      "\n",
      "Epoch 00006: val_loss improved from 2.07432 to 1.95295, saving model to out/checkpoints/1907121742/006-1.953.hdf5\n",
      "Epoch 7/10\n",
      "  1/100 [..............................] - ETA: 2:47 - loss: 0.8758 - acc: 0.8438 - top_k_categorical_accuracy: 0.9062"
     ]
    },
    {
     "name": "stderr",
     "output_type": "stream",
     "text": [
      "/home/s-sato/anaconda3/lib/python3.7/site-packages/keras/callbacks.py:122: UserWarning: Method on_batch_end() is slow compared to the batch update (0.412764). Check your callbacks.\n",
      "  % delta_t_median)\n"
     ]
    },
    {
     "name": "stdout",
     "output_type": "stream",
     "text": [
      "\b\b\b\b\b\b\b\b\b\b\b\b\b\b\b\b\b\b\b\b\b\b\b\b\b\b\b\b\b\b\b\b\b\b\b\b\b\b\b\b\b\b\b\b\b\b\b\b\b\b\b\b\b\b\b\b\b\b\b\b\b\b\b\b\b\b\b\b\b\b\b\b\b\b\b\b\b\b\b\b\b\b\b\b\b\b\b\b\b\b\b\b\b\b\b\b\b\b\b\b\b\b\b\b\b\b\b\b\b\b\b\b\b\b\b\b\b\b\r",
      "  2/100 [..............................] - ETA: 4:11 - loss: 0.8867 - acc: 0.8125 - top_k_categorical_accuracy: 0.9062"
     ]
    },
    {
     "name": "stderr",
     "output_type": "stream",
     "text": [
      "/home/s-sato/anaconda3/lib/python3.7/site-packages/keras/callbacks.py:122: UserWarning: Method on_batch_end() is slow compared to the batch update (0.222339). Check your callbacks.\n",
      "  % delta_t_median)\n"
     ]
    },
    {
     "name": "stdout",
     "output_type": "stream",
     "text": [
      "100/100 [==============================] - 293s 3s/step - loss: 1.0818 - acc: 0.7150 - top_k_categorical_accuracy: 0.8956 - val_loss: 2.0717 - val_acc: 0.4750 - val_top_k_categorical_accuracy: 0.7875\n",
      "\n",
      "Epoch 00007: val_loss did not improve from 1.95295\n",
      "Epoch 8/10\n",
      "  3/100 [..............................] - ETA: 6:42 - loss: 1.0425 - acc: 0.7083 - top_k_categorical_accuracy: 0.9062"
     ]
    },
    {
     "name": "stderr",
     "output_type": "stream",
     "text": [
      "/home/s-sato/anaconda3/lib/python3.7/site-packages/keras/callbacks.py:122: UserWarning: Method on_batch_end() is slow compared to the batch update (0.153537). Check your callbacks.\n",
      "  % delta_t_median)\n"
     ]
    },
    {
     "name": "stdout",
     "output_type": "stream",
     "text": [
      "100/100 [==============================] - 301s 3s/step - loss: 1.0769 - acc: 0.7212 - top_k_categorical_accuracy: 0.9025 - val_loss: 2.0699 - val_acc: 0.4594 - val_top_k_categorical_accuracy: 0.7625\n",
      "\n",
      "Epoch 00008: val_loss did not improve from 1.95295\n",
      "Epoch 9/10\n",
      "100/100 [==============================] - 290s 3s/step - loss: 1.0817 - acc: 0.7203 - top_k_categorical_accuracy: 0.9031 - val_loss: 1.9033 - val_acc: 0.4750 - val_top_k_categorical_accuracy: 0.7812\n",
      "\n",
      "Epoch 00009: val_loss improved from 1.95295 to 1.90329, saving model to out/checkpoints/1907121742/009-1.903.hdf5\n",
      "Epoch 10/10\n",
      "100/100 [==============================] - 291s 3s/step - loss: 1.0509 - acc: 0.7181 - top_k_categorical_accuracy: 0.9119 - val_loss: 2.0764 - val_acc: 0.4781 - val_top_k_categorical_accuracy: 0.7531\n",
      "\n",
      "Epoch 00010: val_loss did not improve from 1.90329\n"
     ]
    }
   ],
   "source": [
    "print(\"Get and train the mid layers...\")\n",
    "model = freeze_all_but_mid_and_top(model)\n",
    "model = train_model(model, 10, generators, [tb, early_stopper, csv_logger, checkpointer])"
   ]
  },
  {
   "cell_type": "markdown",
   "metadata": {},
   "source": [
    "# Temporal Training"
   ]
  },
  {
   "cell_type": "code",
   "execution_count": 1,
   "metadata": {
    "ExecuteTime": {
     "end_time": "2019-07-15T02:45:17.837662Z",
     "start_time": "2019-07-15T02:45:16.604057Z"
    }
   },
   "outputs": [
    {
     "name": "stderr",
     "output_type": "stream",
     "text": [
      "Using TensorFlow backend.\n"
     ]
    }
   ],
   "source": [
    "from keras.callbacks import TensorBoard, ModelCheckpoint, EarlyStopping, CSVLogger, LearningRateScheduler\n",
    "from TwoStreamNetwork.temporal.trainModel import ResearchModels\n",
    "from TwoStreamNetwork.temporal.trainData import DataSet\n",
    "import time\n",
    "import os.path\n",
    "from os import makedirs\n",
    "from DataSetPathCall import UCF101_PathCall\n",
    "\n",
    "ucf101 = UCF101_PathCall()"
   ]
  },
  {
   "cell_type": "code",
   "execution_count": 2,
   "metadata": {
    "ExecuteTime": {
     "end_time": "2019-07-15T02:45:18.607210Z",
     "start_time": "2019-07-15T02:45:18.604332Z"
    }
   },
   "outputs": [
    {
     "name": "stdout",
     "output_type": "stream",
     "text": [
      "/home/s-sato/dataset/UCF101/tvl1_flow/data_list.csv\n",
      "/home/s-sato/dataset/UCF101/tvl1_flow\n"
     ]
    }
   ],
   "source": [
    "print(ucf101.getDataListPath())\n",
    "print(ucf101.getOptFlowDir())"
   ]
  },
  {
   "cell_type": "code",
   "execution_count": 3,
   "metadata": {
    "ExecuteTime": {
     "end_time": "2019-07-15T02:45:27.922845Z",
     "start_time": "2019-07-15T02:45:27.916247Z"
    }
   },
   "outputs": [],
   "source": [
    "def fixed_schedule(epoch):\n",
    "    initial_lr = 1.e-2\n",
    "    lr = initial_lr\n",
    "\n",
    "    if epoch == 1389:\n",
    "        lr = 0.1 * lr\n",
    "    if epoch == 1944:\n",
    "        lr = 0.1 * lr\n",
    "\n",
    "    return lr"
   ]
  },
  {
   "cell_type": "code",
   "execution_count": 5,
   "metadata": {
    "ExecuteTime": {
     "end_time": "2019-07-15T02:45:46.600367Z",
     "start_time": "2019-07-15T02:45:46.593515Z"
    }
   },
   "outputs": [],
   "source": [
    "saved_model = None\n",
    "class_limit = None  # int, can be 1-101 or None\n",
    "num_of_snip = 1 # number of chunks used for each video\n",
    "opt_flow_len = 10 # number of optical flow frames used\n",
    "image_shape=(224, 224)\n",
    "load_to_memory = False  # pre-load the sequences into memory\n",
    "batch_size = 64\n",
    "nb_epoch = 2222\n",
    "name_str = None"
   ]
  },
  {
   "cell_type": "code",
   "execution_count": 11,
   "metadata": {
    "ExecuteTime": {
     "end_time": "2019-07-15T02:49:48.023850Z",
     "start_time": "2019-07-15T02:49:47.940721Z"
    }
   },
   "outputs": [
    {
     "name": "stdout",
     "output_type": "stream",
     "text": [
      "class_limit =  None\n",
      "/home/s-sato/dataset/UCF101/tvl1_flow\n"
     ]
    }
   ],
   "source": [
    "# Get local time.\n",
    "time_str = time.strftime(\"%y%m%d%H%M\", time.localtime())\n",
    "\n",
    "if name_str == None:\n",
    "    name_str = time_str\n",
    "\n",
    "# Callbacks: Save the model.\n",
    "directory1 = os.path.join('out', 'checkpoints', name_str)\n",
    "if not os.path.exists(directory1):\n",
    "        os.makedirs(directory1)\n",
    "checkpointer = ModelCheckpoint(\n",
    "        filepath=os.path.join(directory1,\n",
    "                '{epoch:03d}-{val_loss:.3f}.hdf5'),\n",
    "        verbose=1,\n",
    "        save_best_only=True)\n",
    "\n",
    "# Callbacks: TensorBoard\n",
    "directory2 = os.path.join('out', 'TB', name_str)\n",
    "if not os.path.exists(directory2):\n",
    "        os.makedirs(directory2)\n",
    "tb = TensorBoard(log_dir=os.path.join(directory2))\n",
    "\n",
    "# Callbacks: Early stopper.\n",
    "early_stopper = EarlyStopping(monitor='loss', patience=100)\n",
    "\n",
    "# Callbacks: Save results.\n",
    "directory3 = os.path.join('out', 'logs', name_str)\n",
    "if not os.path.exists(directory3):\n",
    "        os.makedirs(directory3)\n",
    "timestamp = time.time()\n",
    "csv_logger = CSVLogger(os.path.join(directory3, 'training-' + \\\n",
    "        str(timestamp) + '.log'))\n",
    "\n",
    "# Learning rate schedule.\n",
    "lr_schedule = LearningRateScheduler(fixed_schedule, verbose=0)\n",
    "\n",
    "print(\"class_limit = \", class_limit)\n",
    "# Get the data and process it.\n",
    "if image_shape is None:\n",
    "    data = DataSet(\n",
    "            num_of_snip=num_of_snip,\n",
    "            opt_flow_len=opt_flow_len,\n",
    "            class_limit=class_limit,\n",
    "            opt_flow_path=ucf101.getOptFlowDir(),\n",
    "            data_path=ucf101.getDataListPath()\n",
    "            )\n",
    "else:\n",
    "    data = DataSet(\n",
    "            num_of_snip=num_of_snip,\n",
    "            opt_flow_len=opt_flow_len,\n",
    "            image_shape=image_shape,\n",
    "            class_limit=class_limit,\n",
    "            opt_flow_path=ucf101.getOptFlowDir(),\n",
    "            data_path=ucf101.getDataListPath()\n",
    "            )\n",
    "\n",
    "# Get samples per epoch.\n",
    "# Multiply by 0.7 to attempt to guess how much of data.data is the train set.\n",
    "steps_per_epoch = (len(data.data_list) * 0.7) // batch_size\n",
    "print(data.opt_flow_path)\n",
    "#print(data.data_list)S"
   ]
  },
  {
   "cell_type": "code",
   "execution_count": 8,
   "metadata": {
    "ExecuteTime": {
     "end_time": "2019-07-15T02:47:10.138390Z",
     "start_time": "2019-07-15T02:47:10.133154Z"
    }
   },
   "outputs": [],
   "source": [
    "#if load_to_memory:\n",
    "#    # Get data.\n",
    "#    X, y = data.get_all_stacks_in_memory('train')\n",
    "#    X_test, y_test = data.get_all_stacks_in_memory('test')\n",
    "#else:\n",
    "# Get generators.\n",
    "generator = data.stack_generator(batch_size, 'train')\n",
    "\n",
    "val_generator = data.stack_generator(batch_size, 'test', name_str=name_str)\n"
   ]
  },
  {
   "cell_type": "code",
   "execution_count": 7,
   "metadata": {
    "ExecuteTime": {
     "end_time": "2019-07-15T02:43:30.169913Z",
     "start_time": "2019-07-15T02:43:28.637308Z"
    }
   },
   "outputs": [
    {
     "name": "stdout",
     "output_type": "stream",
     "text": [
      "Number of classes:\n",
      "100\n",
      "Loading CNN model for the temporal stream.\n",
      "Input shape:\n",
      "(224, 224, 20)\n",
      "Numer of classes:\n",
      "100\n",
      "WARNING:tensorflow:From /home/s-sato/anaconda3/lib/python3.7/site-packages/tensorflow/python/framework/op_def_library.py:263: colocate_with (from tensorflow.python.framework.ops) is deprecated and will be removed in a future version.\n",
      "Instructions for updating:\n",
      "Colocations handled automatically by placer.\n",
      "WARNING:tensorflow:From /home/s-sato/anaconda3/lib/python3.7/site-packages/keras/backend/tensorflow_backend.py:3445: calling dropout (from tensorflow.python.ops.nn_ops) with keep_prob is deprecated and will be removed in a future version.\n",
      "Instructions for updating:\n",
      "Please use `rate` instead of `keep_prob`. Rate should be set to `rate = 1 - keep_prob`.\n",
      "_________________________________________________________________\n",
      "Layer (type)                 Output Shape              Param #   \n",
      "=================================================================\n",
      "conv2d_1 (Conv2D)            (None, 112, 112, 96)      94176     \n",
      "_________________________________________________________________\n",
      "batch_normalization_1 (Batch (None, 112, 112, 96)      384       \n",
      "_________________________________________________________________\n",
      "activation_1 (Activation)    (None, 112, 112, 96)      0         \n",
      "_________________________________________________________________\n",
      "max_pooling2d_1 (MaxPooling2 (None, 56, 56, 96)        0         \n",
      "_________________________________________________________________\n",
      "conv2d_2 (Conv2D)            (None, 28, 28, 256)       614656    \n",
      "_________________________________________________________________\n",
      "activation_2 (Activation)    (None, 28, 28, 256)       0         \n",
      "_________________________________________________________________\n",
      "max_pooling2d_2 (MaxPooling2 (None, 14, 14, 256)       0         \n",
      "_________________________________________________________________\n",
      "conv2d_3 (Conv2D)            (None, 14, 14, 512)       1180160   \n",
      "_________________________________________________________________\n",
      "conv2d_4 (Conv2D)            (None, 14, 14, 512)       2359808   \n",
      "_________________________________________________________________\n",
      "conv2d_5 (Conv2D)            (None, 14, 14, 512)       2359808   \n",
      "_________________________________________________________________\n",
      "max_pooling2d_3 (MaxPooling2 (None, 7, 7, 512)         0         \n",
      "_________________________________________________________________\n",
      "flatten_1 (Flatten)          (None, 25088)             0         \n",
      "_________________________________________________________________\n",
      "dense_1 (Dense)              (None, 4096)              102764544 \n",
      "_________________________________________________________________\n",
      "dropout_1 (Dropout)          (None, 4096)              0         \n",
      "_________________________________________________________________\n",
      "dense_2 (Dense)              (None, 2048)              8390656   \n",
      "_________________________________________________________________\n",
      "dropout_2 (Dropout)          (None, 2048)              0         \n",
      "_________________________________________________________________\n",
      "dense_3 (Dense)              (None, 100)               204900    \n",
      "=================================================================\n",
      "Total params: 117,969,092\n",
      "Trainable params: 117,968,900\n",
      "Non-trainable params: 192\n",
      "_________________________________________________________________\n",
      "None\n"
     ]
    }
   ],
   "source": [
    "# Get the model.\n",
    "temporal_cnn = ResearchModels(nb_classes=len(data.classes), num_of_snip=num_of_snip, \n",
    "                              opt_flow_len=opt_flow_len, image_shape=image_shape, \n",
    "                              saved_model=saved_model)"
   ]
  },
  {
   "cell_type": "code",
   "execution_count": null,
   "metadata": {},
   "outputs": [],
   "source": [
    "# Fit!\n",
    "if load_to_memory:\n",
    "    # Use standard fit.\n",
    "    temporal_cnn.model.fit(\n",
    "            X,\n",
    "            y,\n",
    "            batch_size=batch_size,\n",
    "            validation_data=(X_test, y_test),\n",
    "            verbose=1,\n",
    "            callbacks=[tb, early_stopper, csv_logger],\n",
    "            epochs=nb_epoch)\n",
    "else:\n",
    "    # Use fit generator.\n",
    "    temporal_cnn.model.fit_generator(\n",
    "            generator=generator,\n",
    "            steps_per_epoch=steps_per_epoch,\n",
    "            epochs=nb_epoch,\n",
    "            verbose=1,\n",
    "            callbacks=[tb, early_stopper, csv_logger, checkpointer, lr_schedule],\n",
    "            validation_data=val_generator,\n",
    "            validation_steps=1,\n",
    "            max_queue_size=20,\n",
    "            workers=1,\n",
    "            use_multiprocessing=False)"
   ]
  }
 ],
 "metadata": {
  "kernelspec": {
   "display_name": "Python 3",
   "language": "python",
   "name": "python3"
  },
  "language_info": {
   "codemirror_mode": {
    "name": "ipython",
    "version": 3
   },
   "file_extension": ".py",
   "mimetype": "text/x-python",
   "name": "python",
   "nbconvert_exporter": "python",
   "pygments_lexer": "ipython3",
   "version": "3.7.1"
  },
  "nbTranslate": {
   "displayLangs": [
    "*"
   ],
   "hotkey": "alt-t",
   "langInMainMenu": true,
   "sourceLang": "en",
   "targetLang": "fr",
   "useGoogleTranslate": true
  },
  "toc": {
   "base_numbering": 1,
   "nav_menu": {},
   "number_sections": true,
   "sideBar": true,
   "skip_h1_title": false,
   "title_cell": "Table of Contents",
   "title_sidebar": "Contents",
   "toc_cell": false,
   "toc_position": {},
   "toc_section_display": true,
   "toc_window_display": false
  },
  "varInspector": {
   "cols": {
    "lenName": 16,
    "lenType": 16,
    "lenVar": 40
   },
   "kernels_config": {
    "python": {
     "delete_cmd_postfix": "",
     "delete_cmd_prefix": "del ",
     "library": "var_list.py",
     "varRefreshCmd": "print(var_dic_list())"
    },
    "r": {
     "delete_cmd_postfix": ") ",
     "delete_cmd_prefix": "rm(",
     "library": "var_list.r",
     "varRefreshCmd": "cat(var_dic_list()) "
    }
   },
   "types_to_exclude": [
    "module",
    "function",
    "builtin_function_or_method",
    "instance",
    "_Feature"
   ],
   "window_display": false
  }
 },
 "nbformat": 4,
 "nbformat_minor": 2
}
